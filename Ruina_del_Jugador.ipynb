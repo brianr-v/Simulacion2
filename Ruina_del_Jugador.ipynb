{
 "cells": [
  {
   "cell_type": "markdown",
   "metadata": {},
   "source": [
    "# Problema de la ruina del jugador\n",
    "\n",
    "El problema de la ruina del jugador se refiere a la situación en la que un jugador con una cantidad inicial de dinero (capital) apuesta repetidamente en un juego con probabilidades fijas de ganar o perder, y la simulación termina cuando el jugador se arruina (es decir, su capital se reduce a cero) o alcanza una cantidad objetivo.\n",
    "\n",
    "Elementos a considerar:\n",
    "1. Capital inicial: La cantidad de dinero que el jugador tiene al comienzo del juego.\n",
    "2. Objetivo del jugador: La cantidad de dinero que el jugador desea alcanzar antes de detener el juego. \n",
    "3. Probabilidad de ganar una apuesta: La probabilidad de ganar una sola apuesta. Denotada como  $𝑝$.\n",
    "4. Probabilidad de perder una apuesta: La probabilidad de perder una sola apuesta. Denotémosla como $q=1−p$.\n",
    "5. Monto de cada apuesta: La cantidad de dinero que el jugador apuesta en cada jugada. \n",
    "6. Condiciones de terminación: El juego termina cuando el jugador se arruina (capital = 0) o alcanza el objetivo."
   ]
  },
  {
   "cell_type": "markdown",
   "metadata": {},
   "source": [
    "## Importamos librerias\n",
    "\n",
    "Importamos las librerias que necesitaremos, que son random y numpy."
   ]
  },
  {
   "cell_type": "code",
   "execution_count": 11,
   "metadata": {},
   "outputs": [],
   "source": [
    "import random\n",
    "import numpy as np"
   ]
  },
  {
   "cell_type": "markdown",
   "metadata": {},
   "source": [
    "## Definimos las funciones\n",
    "\n",
    "* Función movimiento():\n",
    "Donde definimos las variables \"x\", lo que hace es generar un numero aleatorio que serán los pasos que dara dependiendo (Norte, Sur, Este, Oeste). Reegresa \"x\", que sera la posición final.\n",
    "\n",
    "* Función probabilidad(n, k):\n",
    "Donde calculo la distancia Manhattan con la formula:\n",
    "$\\begin{equation}d_m=|x_f - x_i|\\end{equation}$\n",
    "Regresa la media de las distancias."
   ]
  },
  {
   "cell_type": "code",
   "execution_count": 12,
   "metadata": {},
   "outputs": [],
   "source": [
    "def caminata(x, y, p):\n",
    "    t = 0\n",
    "\n",
    "    while x != 0 and y != 0:\n",
    "        paso = random.uniform(0, 1)     # Probabilidad de ganar o perder\n",
    "\n",
    "        if paso <= p:\n",
    "            x += 1\n",
    "            y -= 1\n",
    "        else:\n",
    "            x -= 1\n",
    "            y += 1\n",
    "        \n",
    "        t += 1 \n",
    "        \n",
    "    return (x, y, t)\n",
    "\n",
    "def caminatas(n, x, y, p):\n",
    "    contador1 = 0\n",
    "    ganacia = []\n",
    "    timepo = []\n",
    "\n",
    "    for i in range(n):\n",
    "        c = caminata(x, y, p)\n",
    "        \n",
    "        if c[0] == 0: # Ruina del jugador 1\n",
    "            contador1 += 1\n",
    "        ganacia.append(c[0] - x)\n",
    "        timepo.append(c[2])\n",
    "    \n",
    "    ganacia = np.mean(ganacia)\n",
    "    timepo = np.mean(timepo)\n",
    "\n",
    "    return (contador1/n, ganacia, timepo)"
   ]
  },
  {
   "cell_type": "markdown",
   "metadata": {},
   "source": [
    "## Ejemplo 1\n",
    "\n",
    "Supongamos que el \"jugador 1\" tiene como capital inicial \\$2 y el \"jugador 2\" tiene \\$3. \n",
    "\n",
    "Nos interesa saber tres cosas.\n",
    "1. Probabilidad de ruina.\n",
    "2. Ganancia media.\n",
    "3. Duración esperada del juego.  "
   ]
  },
  {
   "cell_type": "code",
   "execution_count": 13,
   "metadata": {},
   "outputs": [
    {
     "name": "stdout",
     "output_type": "stream",
     "text": [
      "\n",
      "Ruina del jugador 1:  0.803\n",
      "Promedio de ganacias jugador 1:  -1.015\n",
      "Timepo promedio:  5.607\n"
     ]
    }
   ],
   "source": [
    "x = 2   # Capital del jugador 1\n",
    "y = 3   # Capital del jugador 2\n",
    "p = 0.4 # Probabilidad \n",
    "\n",
    "n = 1000\n",
    "simulacion = caminatas(n, x, y, p)\n",
    "\n",
    "print(\"\\nRuina del jugador 1: \", simulacion[0])\n",
    "print(\"Promedio de ganacias jugador 1: \", simulacion[1])\n",
    "print(\"Timepo promedio: \", simulacion[2])"
   ]
  },
  {
   "cell_type": "markdown",
   "metadata": {},
   "source": [
    "## Ejemplo 2 \n",
    "\n",
    "Ahora supongamos que jugamos contra un jugador infinitamente rico.\n",
    "\n",
    "Nos interesa saber tres cosas.\n",
    "1. Probabilidad de ruina.\n",
    "2. Ganancia media.\n",
    "3. Duración esperada del juego.  "
   ]
  },
  {
   "cell_type": "code",
   "execution_count": 14,
   "metadata": {},
   "outputs": [
    {
     "name": "stdout",
     "output_type": "stream",
     "text": [
      "\n",
      "Ruina del jugador 1:  1.0\n",
      "Promedio de ganacias jugador 1:  -6.0\n",
      "Timepo promedio:  14.448\n"
     ]
    }
   ],
   "source": [
    "x = 6       # Capital del jugador 1\n",
    "y = 10000   # Capital del jugador 2\n",
    "p = 0.3     # Probabilidad\n",
    "\n",
    "n = 1000\n",
    "simulacion = caminatas(n, x, y, p)\n",
    "\n",
    "print(\"\\nRuina del jugador 1: \", simulacion[0])\n",
    "print(\"Promedio de ganacias jugador 1: \", simulacion[1])\n",
    "print(\"Timepo promedio: \", simulacion[2])"
   ]
  },
  {
   "cell_type": "markdown",
   "metadata": {},
   "source": [
    "## Ejercicio 3\n",
    "\n",
    "Como en los casos anteriores buscamos calcular \n",
    "1. Probabilidad de ruina.\n",
    "2. Ganancia media.\n",
    "3. Duración esperada del juego.  \n",
    "\n",
    "Pero ahora para en caso general, nos pregunta capital del jugador 1 y 2, además de la probabilidad. \n",
    "\n",
    "En este caso puse capital del \"jugador 1\" de \\$10 y del \"jugador 2\" de \\$6 y probabilidad de 0.3."
   ]
  },
  {
   "cell_type": "code",
   "execution_count": 15,
   "metadata": {},
   "outputs": [
    {
     "name": "stdout",
     "output_type": "stream",
     "text": [
      "\n",
      "Ruina del jugador 1:  0.993\n",
      "Promedio de ganacias jugador 1:  -9.888\n",
      "Timepo promedio:  25.984\n"
     ]
    }
   ],
   "source": [
    "x = int(input(\"¿Cuál es el dinero del jugador 1?: \"))\n",
    "y = int(input(\"¿Cuál es el dinero del jugador 2?: \"))\n",
    "p = float(input(\"¿Cuál es la probabilidad del experimento?: \"))\n",
    "\n",
    "n = 1000\n",
    "simulacion = caminatas(n, x, y, p)\n",
    "\n",
    "print(\"\\nRuina del jugador 1: \", simulacion[0])\n",
    "print(\"Promedio de ganacias jugador 1: \", simulacion[1])\n",
    "print(\"Timepo promedio: \", simulacion[2])"
   ]
  }
 ],
 "metadata": {
  "kernelspec": {
   "display_name": "myenv",
   "language": "python",
   "name": "python3"
  },
  "language_info": {
   "codemirror_mode": {
    "name": "ipython",
    "version": 3
   },
   "file_extension": ".py",
   "mimetype": "text/x-python",
   "name": "python",
   "nbconvert_exporter": "python",
   "pygments_lexer": "ipython3",
   "version": "3.11.6"
  }
 },
 "nbformat": 4,
 "nbformat_minor": 2
}
