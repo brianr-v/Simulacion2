{
 "cells": [
  {
   "cell_type": "markdown",
   "metadata": {},
   "source": [
    "# Ejmplo 1 usando la libreria turtle\n",
    "\n",
    "En clase estabamos usando la libreria turtle, para ver las funcionalidades, ventajas y posibles proyectos, por ejemplo, consideremos usarlo para graficar caminatas aleatorias de una forma sencilla.\n",
    "\n",
    "En este ejmplo solo se experimenta un poco con la libreria, hice la cara de un creeper, ya que en un curso de Java, nos estaban enseñando a usar el entorno grafico y nos pusieron como ejercicio hacer la cvara de un creeper. "
   ]
  },
  {
   "cell_type": "markdown",
   "metadata": {},
   "source": [
    "## Importamos librerias necesarias"
   ]
  },
  {
   "cell_type": "code",
   "execution_count": 1,
   "metadata": {},
   "outputs": [],
   "source": [
    "from turtle import *\n",
    "import tkinter as tk"
   ]
  },
  {
   "cell_type": "markdown",
   "metadata": {},
   "source": [
    "## Creacion del creeper"
   ]
  },
  {
   "cell_type": "code",
   "execution_count": 2,
   "metadata": {},
   "outputs": [],
   "source": [
    "shape(\"turtle\")\n",
    "color('red','yellow')\n",
    "\n",
    "n = 0           # Contador  de lineas\n",
    "\n",
    "while n < 4: # Numero de lineas dibujadas\n",
    "    f = 140  \n",
    "    forward(f)\n",
    "    right(90)\n",
    "    n += 1\n",
    "\n",
    "\n",
    "penup()\n",
    "goto(20,-20)\n",
    "pendown()\n",
    "\n",
    "n= 0\n",
    "while n < 4: # Numero de lineas dibujadas\n",
    "    f = 40  \n",
    "    forward(f)\n",
    "    right(90)\n",
    "    n += 1\n",
    "\n",
    "penup()\n",
    "goto(80,-20)\n",
    "pendown()\n",
    "\n",
    "n = 0\n",
    "while n < 4: # Numero de lineas dibujadas\n",
    "    f = 40  \n",
    "    forward(f)\n",
    "    right(90)\n",
    "    n += 1\n",
    "\n",
    "penup()\n",
    "goto(50,-80)\n",
    "pendown()\n",
    "\n",
    "n = 0\n",
    "forward(40)\n",
    "right(90)\n",
    "f = 20  \n",
    "forward(f)\n",
    "left(90)\n",
    "forward(10)\n",
    "right(90)\n",
    "forward(40)\n",
    "right(90)\n",
    "forward(10)\n",
    "right(90)\n",
    "forward(10)\n",
    "left(90)\n",
    "forward(40)\n",
    "left(90)\n",
    "forward(10)\n",
    "right(90)\n",
    "forward(10)\n",
    "right(90)\n",
    "forward(40)\n",
    "right(90)\n",
    "forward(10)\n",
    "left(90)\n",
    "forward(20)\n",
    "\n",
    "\n",
    "exitonclick()"
   ]
  }
 ],
 "metadata": {
  "kernelspec": {
   "display_name": "myenv",
   "language": "python",
   "name": "python3"
  },
  "language_info": {
   "codemirror_mode": {
    "name": "ipython",
    "version": 3
   },
   "file_extension": ".py",
   "mimetype": "text/x-python",
   "name": "python",
   "nbconvert_exporter": "python",
   "pygments_lexer": "ipython3",
   "version": "3.11.6"
  }
 },
 "nbformat": 4,
 "nbformat_minor": 2
}
