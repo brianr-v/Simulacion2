{
 "cells": [
  {
   "cell_type": "markdown",
   "metadata": {},
   "source": [
    "# Ejmplo 1 usando la libreria turtle\n",
    "\n",
    "En clase estabamos usando la libreria turtle, para ver las funcionalidades, ventajas y posibles proyectos, por ejemplo, consideremos usarlo para graficar caminatas aleatorias de una forma sencilla.\n",
    "\n",
    "En este ejmplo solo se experimenta un poco con la libreria, hice la cara de un creeper, ya que en un curso de Java, nos estaban enseñando a usar el entorno grafico y nos pusieron como ejercicio hacer la cvara de un creeper. "
   ]
  },
  {
   "cell_type": "markdown",
   "metadata": {},
   "source": [
    "## Importamos librerias necesarias"
   ]
  },
  {
   "cell_type": "code",
   "execution_count": 19,
   "metadata": {},
   "outputs": [],
   "source": [
    "import turtle\n",
    "import tkinter as tk\n",
    "from PIL import Image"
   ]
  },
  {
   "cell_type": "markdown",
   "metadata": {},
   "source": [
    "## Creacion del creeper"
   ]
  },
  {
   "cell_type": "code",
   "execution_count": 20,
   "metadata": {},
   "outputs": [],
   "source": [
    "# Configurar la tortuga\n",
    "turtle.shape(\"turtle\")\n",
    "turtle.color('red', 'yellow')\n",
    "\n",
    "# Primer cuadrado\n",
    "n = 0  # Contador de líneas\n",
    "while n < 4:  # Número de líneas dibujadas\n",
    "    f = 140\n",
    "    turtle.forward(f)\n",
    "    turtle.right(90)\n",
    "    n += 1\n",
    "\n",
    "# Segundo cuadrado\n",
    "turtle.penup()\n",
    "turtle.goto(20, -20)\n",
    "turtle.pendown()\n",
    "\n",
    "n = 0\n",
    "while n < 4:  # Número de líneas dibujadas\n",
    "    f = 40\n",
    "    turtle.forward(f)\n",
    "    turtle.right(90)\n",
    "    n += 1\n",
    "\n",
    "# Tercer cuadrado\n",
    "turtle.penup()\n",
    "turtle.goto(80, -20)\n",
    "turtle.pendown()\n",
    "\n",
    "n = 0\n",
    "while n < 4:  # Número de líneas dibujadas\n",
    "    f = 40\n",
    "    turtle.forward(f)\n",
    "    turtle.right(90)\n",
    "    n += 1\n",
    "\n",
    "# Cuarto cuadrado con líneas internas\n",
    "turtle.penup()\n",
    "turtle.goto(50, -80)\n",
    "turtle.pendown()\n",
    "\n",
    "n = 0\n",
    "turtle.forward(40)\n",
    "turtle.right(90)\n",
    "f = 20\n",
    "turtle.forward(f)\n",
    "turtle.left(90)\n",
    "turtle.forward(10)\n",
    "turtle.right(90)\n",
    "turtle.forward(40)\n",
    "turtle.right(90)\n",
    "turtle.forward(10)\n",
    "turtle.right(90)\n",
    "turtle.forward(10)\n",
    "turtle.left(90)\n",
    "turtle.forward(40)\n",
    "turtle.left(90)\n",
    "turtle.forward(10)\n",
    "turtle.right(90)\n",
    "turtle.forward(10)\n",
    "turtle.right(90)\n",
    "turtle.forward(40)\n",
    "turtle.right(90)\n",
    "turtle.forward(10)\n",
    "turtle.left(90)\n",
    "turtle.forward(20)\n",
    "\n",
    "# Guardar la imagen del canvas\n",
    "canvas = turtle.getcanvas()\n",
    "canvas.postscript(file=\"turtle_drawing.eps\")  # Guarda la imagen en formato EPS\n",
    "\n",
    "# Mantener la ventana abierta\n",
    "turtle.done()"
   ]
  },
  {
   "cell_type": "markdown",
   "metadata": {},
   "source": [
    "## Cambiar el formato .eps a .png"
   ]
  },
  {
   "cell_type": "code",
   "execution_count": 21,
   "metadata": {},
   "outputs": [],
   "source": [
    "# Abrir el archivo EPS y guardarlo como PNG\n",
    "image = Image.open(\"turtle_drawing.eps\")\n",
    "image.save(\"turtle_drawing.png\")"
   ]
  },
  {
   "cell_type": "markdown",
   "metadata": {},
   "source": [
    "## Salida de la imagen"
   ]
  },
  {
   "cell_type": "markdown",
   "metadata": {},
   "source": [
    "![Creeper](turtle_drawing.png)"
   ]
  }
 ],
 "metadata": {
  "kernelspec": {
   "display_name": "myenv",
   "language": "python",
   "name": "python3"
  },
  "language_info": {
   "codemirror_mode": {
    "name": "ipython",
    "version": 3
   },
   "file_extension": ".py",
   "mimetype": "text/x-python",
   "name": "python",
   "nbconvert_exporter": "python",
   "pygments_lexer": "ipython3",
   "version": "3.11.6"
  }
 },
 "nbformat": 4,
 "nbformat_minor": 2
}
