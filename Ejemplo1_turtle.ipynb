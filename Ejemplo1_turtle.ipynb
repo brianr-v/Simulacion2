{
 "cells": [
  {
   "cell_type": "markdown",
   "metadata": {},
   "source": [
    "# Ejmplo 1 usando la libreria turtle\n",
    "\n",
    "En clase estabamos usando la libreria turtle, para ver las funcionalidades, ventajas y posibles proyectos, por ejemplo, consideremos usarlo para graficar caminatas aleatorias de una forma sencilla.\n",
    "\n",
    "En este ejmplo solo se experimenta un poco con la libreria, hice la cara de un creeper, ya que en un curso de Java, nos estaban enseñando a usar el entorno grafico y nos pusieron como ejercicio hacer la cvara de un creeper. "
   ]
  },
  {
   "cell_type": "markdown",
   "metadata": {},
   "source": [
    "## Importamos librerias necesarias"
   ]
  },
  {
   "cell_type": "code",
   "execution_count": 97,
   "metadata": {},
   "outputs": [],
   "source": [
    "import turtle\n",
    "import tkinter as tk\n",
    "from PIL import Image"
   ]
  },
  {
   "cell_type": "markdown",
   "metadata": {},
   "source": [
    "## Creacion del creeper"
   ]
  },
  {
   "cell_type": "code",
   "execution_count": 98,
   "metadata": {},
   "outputs": [],
   "source": [
    "# Configurar la tortuga\n",
    "#turtle.shape(\"turtle\")\n",
    "#turtle.color('red', 'yellow')\n",
    "\n",
    "# Primer cuadrado\n",
    "n = 0  # Contador de líneas\n",
    "while n < 4:  # Número de líneas dibujadas\n",
    "    f = 140\n",
    "    turtle.forward(f)\n",
    "    turtle.right(90)\n",
    "    n += 1\n",
    "\n",
    "# Segundo cuadrado\n",
    "turtle.penup()\n",
    "turtle.goto(20, -20)\n",
    "turtle.pendown()\n",
    "\n",
    "n = 0\n",
    "while n < 4:  # Número de líneas dibujadas\n",
    "    f = 40\n",
    "    turtle.forward(f)\n",
    "    turtle.right(90)\n",
    "    n += 1\n",
    "\n",
    "# Tercer cuadrado\n",
    "turtle.penup()\n",
    "turtle.goto(80, -20)\n",
    "turtle.pendown()\n",
    "\n",
    "n = 0\n",
    "while n < 4:  # Número de líneas dibujadas\n",
    "    f = 40\n",
    "    turtle.forward(f)\n",
    "    turtle.right(90)\n",
    "    n += 1\n",
    "\n",
    "# Cuarto cuadrado con líneas internas\n",
    "turtle.penup()\n",
    "turtle.goto(50, -80)\n",
    "turtle.pendown()\n",
    "\n",
    "n = 0\n",
    "turtle.forward(40)\n",
    "turtle.right(90)\n",
    "f = 20\n",
    "turtle.forward(f)\n",
    "turtle.left(90)\n",
    "turtle.forward(10)\n",
    "turtle.right(90)\n",
    "turtle.forward(40)\n",
    "turtle.right(90)\n",
    "turtle.forward(10)\n",
    "turtle.right(90)\n",
    "turtle.forward(10)\n",
    "turtle.left(90)\n",
    "turtle.forward(40)\n",
    "turtle.left(90)\n",
    "turtle.forward(10)\n",
    "turtle.right(90)\n",
    "turtle.forward(10)\n",
    "turtle.right(90)\n",
    "turtle.forward(40)\n",
    "turtle.right(90)\n",
    "turtle.forward(10)\n",
    "turtle.left(90)\n",
    "turtle.forward(20)\n",
    "\n",
    "# Guardar la imagen del canvas\n",
    "canvas = turtle.getcanvas()\n",
    "canvas.postscript(file=\"turtle_drawing.eps\")  # Guarda la imagen en formato EPS\n",
    "\n",
    "# Mantener la ventana abierta\n",
    "turtle.bye()"
   ]
  },
  {
   "cell_type": "markdown",
   "metadata": {},
   "source": [
    "## Cambiar el formato .eps a .png"
   ]
  },
  {
   "cell_type": "code",
   "execution_count": 99,
   "metadata": {},
   "outputs": [],
   "source": [
    "# Abrir el archivo EPS y guardarlo como PNG\n",
    "image = Image.open(\"turtle_drawing.eps\")\n",
    "image.save(\"turtle_drawing.png\")"
   ]
  },
  {
   "cell_type": "markdown",
   "metadata": {},
   "source": [
    "## Salida de la imagen"
   ]
  },
  {
   "cell_type": "markdown",
   "metadata": {},
   "source": [
    "![Creeper](turtle_drawing.png)"
   ]
  },
  {
   "cell_type": "markdown",
   "metadata": {},
   "source": [
    "## Dibujar un arobol"
   ]
  },
  {
   "cell_type": "code",
   "execution_count": 102,
   "metadata": {},
   "outputs": [],
   "source": [
    "# Configurar la tortuga\n",
    "t = turtle.Turtle()\n",
    "t.left(90)\n",
    "t.speed(0)\n",
    "\n",
    "def draw_tree(branch_length):\n",
    "    if branch_length > 5:\n",
    "        t.forward(branch_length)\n",
    "        t.right(20)\n",
    "        draw_tree(branch_length - 15)\n",
    "        t.left(40)\n",
    "        draw_tree(branch_length - 15)\n",
    "        t.right(20)\n",
    "        t.backward(branch_length)\n",
    "\n",
    "# Dibujar el árbol\n",
    "draw_tree(100)\n",
    "\n",
    "# Guardar la imagen del canvas\n",
    "canvas = turtle.getcanvas()\n",
    "canvas.postscript(file=\"turtle_arbol.eps\")  # Guarda la imagen en formato EPS\n",
    "\n",
    "# Finalizar\n",
    "turtle.bye()\n"
   ]
  },
  {
   "cell_type": "markdown",
   "metadata": {},
   "source": [
    "## Cambiar el formato .eps a .png"
   ]
  },
  {
   "cell_type": "code",
   "execution_count": 103,
   "metadata": {},
   "outputs": [],
   "source": [
    "# Abrir el archivo EPS y guardarlo como PNG\n",
    "image = Image.open(\"turtle_arbol.eps\")\n",
    "image.save(\"turtle_arbol.png\")"
   ]
  },
  {
   "cell_type": "markdown",
   "metadata": {},
   "source": [
    "## Salida de la imagen"
   ]
  },
  {
   "cell_type": "markdown",
   "metadata": {},
   "source": [
    "![Creeper](turtle_arbol.png)"
   ]
  },
  {
   "cell_type": "markdown",
   "metadata": {},
   "source": [
    "## Dibujar una flor"
   ]
  },
  {
   "cell_type": "code",
   "execution_count": 108,
   "metadata": {},
   "outputs": [],
   "source": [
    "# Configurar la tortuga\n",
    "t = turtle.Turtle()\n",
    "t.speed(0)\n",
    "\n",
    "def draw_petal():\n",
    "    for _ in range(2):\n",
    "        t.circle(100, 60)\n",
    "        t.left(120)\n",
    "        t.circle(100, 60)\n",
    "        t.left(120)\n",
    "\n",
    "# Dibujar la flor\n",
    "for _ in range(6):\n",
    "    draw_petal()\n",
    "    t.right(60)\n",
    "\n",
    "# Guardar la imagen del canvas\n",
    "canvas = turtle.getcanvas()\n",
    "canvas.postscript(file=\"turtle_flor.eps\")  # Guarda la imagen en formato EPS\n",
    "\n",
    "# Finalizar\n",
    "turtle.bye()\n"
   ]
  },
  {
   "cell_type": "markdown",
   "metadata": {},
   "source": [
    "## Cambiar el formato .esp a .png"
   ]
  },
  {
   "cell_type": "code",
   "execution_count": 109,
   "metadata": {},
   "outputs": [],
   "source": [
    "# Abrir el archivo EPS y guardarlo como PNG\n",
    "image = Image.open(\"turtle_flor.eps\")\n",
    "image.save(\"turtle_flor.png\")"
   ]
  },
  {
   "cell_type": "markdown",
   "metadata": {},
   "source": [
    "## Salida de la imagen"
   ]
  },
  {
   "cell_type": "markdown",
   "metadata": {},
   "source": [
    "![Creeper](turtle_flor.png)"
   ]
  },
  {
   "cell_type": "markdown",
   "metadata": {},
   "source": [
    "## Dibujar una estrella en espiral"
   ]
  },
  {
   "cell_type": "code",
   "execution_count": 116,
   "metadata": {},
   "outputs": [],
   "source": [
    "# Configurar la tortuga\n",
    "t = turtle.Turtle()\n",
    "t.speed(0)\n",
    "\n",
    "# Dibujar la estrella espiral\n",
    "for i in range(50):\n",
    "    t.forward(i * 10)\n",
    "    t.right(144)\n",
    "\n",
    "# Guardar la imagen del canvas\n",
    "canvas = turtle.getcanvas()\n",
    "canvas.postscript(file=\"turtle_estrella.eps\")  # Guarda la imagen en formato EPS\n",
    "\n",
    "# Finalizar\n",
    "turtle.bye()\n"
   ]
  },
  {
   "cell_type": "markdown",
   "metadata": {},
   "source": [
    "## Cambiar el formato .eps a .png"
   ]
  },
  {
   "cell_type": "code",
   "execution_count": 117,
   "metadata": {},
   "outputs": [],
   "source": [
    "# Abrir el archivo EPS y guardarlo como PNG\n",
    "image = Image.open(\"turtle_estrella.eps\")\n",
    "image.save(\"turtle_estrella.png\")"
   ]
  },
  {
   "cell_type": "markdown",
   "metadata": {},
   "source": [
    "## Salida de la imagen"
   ]
  },
  {
   "cell_type": "markdown",
   "metadata": {},
   "source": [
    "![Creeper](turtle_estrella.png)"
   ]
  }
 ],
 "metadata": {
  "kernelspec": {
   "display_name": "myenv",
   "language": "python",
   "name": "python3"
  },
  "language_info": {
   "codemirror_mode": {
    "name": "ipython",
    "version": 3
   },
   "file_extension": ".py",
   "mimetype": "text/x-python",
   "name": "python",
   "nbconvert_exporter": "python",
   "pygments_lexer": "ipython3",
   "version": "3.11.6"
  }
 },
 "nbformat": 4,
 "nbformat_minor": 2
}
