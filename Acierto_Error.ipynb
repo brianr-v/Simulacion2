{
  "cells": [
    {
      "cell_type": "markdown",
      "metadata": {
        "id": "view-in-github",
        "colab_type": "text"
      },
      "source": [
        "<a href=\"https://colab.research.google.com/github/brianr-v/Simulacion2/blob/main/Acierto_Error.ipynb\" target=\"_parent\"><img src=\"https://colab.research.google.com/assets/colab-badge.svg\" alt=\"Open In Colab\"/></a>"
      ]
    },
    {
      "cell_type": "markdown",
      "source": [
        "# **Método general de Acierto-Error**"
      ],
      "metadata": {
        "id": "9LEGGMk1cawd"
      },
      "id": "9LEGGMk1cawd"
    },
    {
      "cell_type": "markdown",
      "id": "fbbc8571",
      "metadata": {
        "id": "fbbc8571"
      },
      "source": [
        "**PASO 1**. Defina las variables que intervienen en el modelo."
      ]
    },
    {
      "cell_type": "markdown",
      "source": [
        "Hay tres variables importantes en este método:\n",
        " * x_valores : se utiliza para guardar el valor de la transformada inversa.\n",
        " * g_valores: se utilaza para evaluar el \"x_valor\" en la función $f(x)=\\exp(\\exp(x))$.\n",
        " * area : guarda los valores aproximados del area de pi, tambien le podemos llamar número de aciertos $N_H$."
      ],
      "metadata": {
        "id": "0l3MVcR__ken"
      },
      "id": "0l3MVcR__ken"
    },
    {
      "cell_type": "markdown",
      "id": "4d3899f3",
      "metadata": {
        "id": "4d3899f3"
      },
      "source": [
        "**PASO 2**. Formule la distribución de probabilidad de cada variable."
      ]
    },
    {
      "cell_type": "markdown",
      "source": [
        "Utilizaremos una distribución uniforme en el intervalo (0,1),es decir $u\\sim(0,1)$, nos servira para generar números aleatorios."
      ],
      "metadata": {
        "id": "M3ByPvYEC0Y6"
      },
      "id": "M3ByPvYEC0Y6"
    },
    {
      "cell_type": "markdown",
      "source": [
        "|      |**Acierto**|**Error**|\n",
        "|------|-----------|----------|\n",
        "|f(x)  |$\\frac{I}{c(b-a)}$ ó $\\frac{N_H}{N}$|1-$\\frac{N_H}{N}$|\n",
        "|F(x)  |$\\frac{N_H}{N}$|1     |"
      ],
      "metadata": {
        "id": "F8NUFHqaTF3E"
      },
      "id": "F8NUFHqaTF3E"
    },
    {
      "cell_type": "markdown",
      "source": [
        "Importamos las bibliotecas numpy, matplotlib y scipy."
      ],
      "metadata": {
        "id": "sxLNd-FuJGCv"
      },
      "id": "sxLNd-FuJGCv"
    },
    {
      "cell_type": "code",
      "source": [
        "import matplotlib.pyplot as plt\n",
        "import numpy as np\n",
        "import scipy.stats as stats\n"
      ],
      "metadata": {
        "id": "YjR7OZXwJCa5"
      },
      "id": "YjR7OZXwJCa5",
      "execution_count": 1,
      "outputs": []
    },
    {
      "cell_type": "markdown",
      "source": [
        "Genero una función en donde grafico 1000 puntos de la funcion $f(x)=\\exp(\\exp(x))$."
      ],
      "metadata": {
        "id": "qQh85uRsJPc6"
      },
      "id": "qQh85uRsJPc6"
    },
    {
      "cell_type": "code",
      "source": [
        "def funcion_g(x):\n",
        "    # Define aquí la función g(X) que deseas evaluar\n",
        "    return np.exp(np.exp(x))\n",
        "    #return np.sqrt(np.arctan(x))\n",
        "\n",
        "def grafica_funcion(x_valores,g_valores):\n",
        "    plt.scatter(x_valores, g_valores, marker='.', alpha=0.1, color ='red')\n",
        "    plt.tight_layout()\n",
        "    plt.xlabel('x')\n",
        "    plt.ylabel('f(x)')\n",
        "    plt.show()\n",
        "\n",
        "# Grafiaca de la funcion a integrar\n",
        "x = np.linspace(0, 1, 1000)   # Genera 1000 puntos entre el 0 y el 1\n",
        "funcion = funcion_g(x)        # Llama a la función que evaluara los puntos \"x\"\n",
        "grafica_funcion(x,funcion)"
      ],
      "metadata": {
        "colab": {
          "base_uri": "https://localhost:8080/",
          "height": 506
        },
        "id": "VryJeKX0JjpN",
        "outputId": "2970ae8a-7698-4671-ae0a-d80e5fd9d60e"
      },
      "id": "VryJeKX0JjpN",
      "execution_count": 2,
      "outputs": [
        {
          "output_type": "display_data",
          "data": {
            "text/plain": [
              "<Figure size 640x480 with 1 Axes>"
            ],
            "image/png": "[encoded data removed]"
          },
          "metadata": {}
        }
      ]
    },
    {
      "cell_type": "markdown",
      "source": [
        "**PASO 3**. Creación del método\n",
        "\n",
        "Genero una funcion que se llama acierto_Rechazo que pide como valores, a: limite inferior de la funcion; b:limite superior de la función; c: constante que acota a la función; por último n: núero de iteraciones del método.\n",
        "Lo que hace el método es lo siguiente:\n",
        "* Genero un contador \"aciertos\" donde acumulo si el punto cayo dentro de la función.  \n",
        "* Creo una lista vacia \"area\" donde sumo el valor aproximado del area.\n",
        "* Creo un ciclo for que va de 1 al 1,001\n",
        "  * Creo una lista \"u\" que contenga 2 números aleatorios.\n",
        "  * Aplico la trasformada inversa que guardo en \"x_valores\".\n",
        "  * Cuento los aciertos tales que $g(Xi) > c * U$ .\n",
        "  * Estimo I calculando la media muestral θ2.\n",
        "  * Por último regreso la lista \"area\".\n"
      ],
      "metadata": {
        "id": "WSDWqXNtL6NC"
      },
      "id": "WSDWqXNtL6NC"
    },
    {
      "cell_type": "code",
      "source": [
        "def acierto_Rechazo(a, b, c, n):\n",
        "    aciertos = 0\n",
        "    area = []\n",
        "    for i in range(1,n+1):\n",
        "        # Generar dos númeos aleatorios independientes\n",
        "        u = np.random.uniform(0,1,2)\n",
        "\n",
        "        # Aplicar la transformada inversa\n",
        "        x_valores = a + u[0] * (b - a)      #Utilizar la tranformada inversa\n",
        "\n",
        "        # Calcular g(Xi)\n",
        "        g_valores = funcion_g(x_valores)\n",
        "\n",
        "        # Paso 5: Contar los aciertos tales que g(Xi) > c * Un+i\n",
        "        if g_valores > c * u[1]:\n",
        "            aciertos += 1\n",
        "\n",
        "        # Paso 6: Estimar I calculando la media muestral θ2\n",
        "        theta_2 = c * (b - a) * (aciertos / i)\n",
        "        area.append(theta_2)\n",
        "\n",
        "    return area\n",
        "\n",
        "# Parámetros del intervalo [a, b]\n",
        "a = 0\n",
        "b = 1\n",
        "\n",
        "# Parámetro de umbral c \"CAMBIAR SI ES NECESARIO\"\n",
        "c = 14\n",
        "\n",
        "# Número de puntos a generar\n",
        "n = 1000\n",
        "\n",
        "# Manda allamar a las funciones que genran la simulacion del valor aproximado de pi\n",
        "simulacion = acierto_Rechazo(a, b , c, n)\n",
        "print(\"\\nResultado de aproximacion de pi: \",simulacion[-1],\" con \",n,\" repeticiones del ciclo\")"
      ],
      "metadata": {
        "colab": {
          "base_uri": "https://localhost:8080/"
        },
        "id": "-sTctE7aL5Iw",
        "outputId": "cac8f290-1002-4850-af61-78d55899d946"
      },
      "id": "-sTctE7aL5Iw",
      "execution_count": 5,
      "outputs": [
        {
          "output_type": "stream",
          "name": "stdout",
          "text": [
            "\n",
            "Resultado de aproximacion de pi:  6.608  con  1000  repeticiones del ciclo\n"
          ]
        }
      ]
    },
    {
      "cell_type": "markdown",
      "source": [
        "**Estabilidad del método**\n",
        "\n",
        "Creo una funcion donde grafico el número de ensayos contra el area que obtuvimos atras.\n"
      ],
      "metadata": {
        "id": "ngGH1alNQYcN"
      },
      "id": "ngGH1alNQYcN"
    },
    {
      "cell_type": "code",
      "source": [
        "def estabilidad_simulacion(ensayos, area):\n",
        "    # Valores para la grafica\n",
        "    #plt.figure(num=None, figsize=(10, 12), dpi=80, facecolor='w', edgecolor='k')\n",
        "    plt.plot(ensayos,area)\n",
        "    plt.xlabel('Número de ensayos')\n",
        "    plt.ylabel('Aproximación al valor de ')\n",
        "    plt.show()\n",
        "\n",
        "# Llamamos a la funcion que grafica de la estabilidad\n",
        "ensayos = range(0,n)\n",
        "estabilidad_simulacion(ensayos, simulacion)"
      ],
      "metadata": {
        "colab": {
          "base_uri": "https://localhost:8080/",
          "height": 450
        },
        "id": "YkkskKqmQmk-",
        "outputId": "8ce22134-49b0-464a-a31b-41edb892a390"
      },
      "id": "YkkskKqmQmk-",
      "execution_count": 4,
      "outputs": [
        {
          "output_type": "display_data",
          "data": {
            "text/plain": [
              "<Figure size 640x480 with 1 Axes>"
            ],
            "image/png": "[encoded data removed]"
          },
          "metadata": {}
        }
      ]
    },
    {
      "cell_type": "markdown",
      "source": [
        "**Repetición del método**\n",
        "\n",
        "Ahora necesitamos crear una función que repetira el método \"aceptacion_Rechazo\" N veces.La función regresa una lista con N simulaciones, que despues utilizaremos para generar un histograma."
      ],
      "metadata": {
        "id": "O5xVnn0ga_KS"
      },
      "id": "O5xVnn0ga_KS"
    },
    {
      "cell_type": "code",
      "source": [
        "def simulaciones(n):\n",
        "    resultado_simulaciones = []\n",
        "    for i in  range(n):\n",
        "        resultado_simulaciones.append(np.mean(acierto_Rechazo(a, b, c, n)))\n",
        "    return resultado_simulaciones\n",
        "\n",
        "# Hace histograma de las simulaciones\n",
        "def histograma(simulaciones_Totales):\n",
        "    # Crear histograma de las simulaciones\n",
        "    plt.hist(simulaciones_Totales, bins=10, color='skyblue', edgecolor='black')\n",
        "\n",
        "    # Agregar etiquetas y título\n",
        "    plt.xlabel('Aproximación al valor de pi')\n",
        "    plt.ylabel('Frecuencia')\n",
        "    plt.title('Histograma de las simulaciones')\n",
        "\n",
        "    # Mostrar el histograma\n",
        "    plt.show()\n",
        "\n",
        "# Hacer 100 simulaciones\n",
        "N = 100\n",
        "simulaciones_Totales = simulaciones(N)\n",
        "\n",
        "# Hacer histograma\n",
        "histograma(simulaciones_Totales)"
      ],
      "metadata": {
        "colab": {
          "base_uri": "https://localhost:8080/",
          "height": 472
        },
        "id": "xU5dHiCXbaVp",
        "outputId": "00e216e6-7aef-4159-ff7f-4da15314df12"
      },
      "id": "xU5dHiCXbaVp",
      "execution_count": 7,
      "outputs": [
        {
          "output_type": "display_data",
          "data": {
            "text/plain": [
              "<Figure size 640x480 with 1 Axes>"
            ],
            "image/png": "[encoded data removed]"
          },
          "metadata": {}
        }
      ]
    },
    {
      "cell_type": "markdown",
      "source": [
        "**Nivel de confianza**"
      ],
      "metadata": {
        "id": "caC-4ukHz_et"
      },
      "id": "caC-4ukHz_et"
    },
    {
      "cell_type": "code",
      "source": [
        "# Definir nivel de convianza del experimento\n",
        "nivel_confianza = 0.95\n",
        "\n",
        "datos = np.array(simulaciones_Totales)\n",
        "media_muestral = np.mean(simulaciones_Totales)\n",
        "desviacion = np.std(simulaciones_Totales)\n",
        "tamaño_muestra = len(datos)\n",
        "\n",
        "# Codigo con valor critico\n",
        "\n",
        "valor_critico = stats.norm.ppf((1 + nivel_confianza)/2)\n",
        "intervalo_inf = media_muestral - (valor_critico)*(desviacion/np.sqrt(tamaño_muestra))\n",
        "intervalo_sup = media_muestral + (valor_critico)*(desviacion/np.sqrt(tamaño_muestra))\n",
        "print(\"\\nIntervalo inferior : \",intervalo_inf)\n",
        "print(\"\\nIntervalo superior : \",intervalo_sup)"
      ],
      "metadata": {
        "id": "0nnQlYej0EuE",
        "outputId": "bdf39d4e-6358-47df-e8bb-207f1ee3d688",
        "colab": {
          "base_uri": "https://localhost:8080/"
        }
      },
      "id": "0nnQlYej0EuE",
      "execution_count": 8,
      "outputs": [
        {
          "output_type": "stream",
          "name": "stdout",
          "text": [
            "\n",
            "Intervalo inferior :  6.031681462721082\n",
            "\n",
            "Intervalo superior :  6.38896934993587\n"
          ]
        }
      ]
    }
  ],
  "metadata": {
    "kernelspec": {
      "display_name": "Python 3 (ipykernel)",
      "language": "python",
      "name": "python3"
    },
    "language_info": {
      "codemirror_mode": {
        "name": "ipython",
        "version": 3
      },
      "file_extension": ".py",
      "mimetype": "text/x-python",
      "name": "python",
      "nbconvert_exporter": "python",
      "pygments_lexer": "ipython3",
      "version": "3.7.3"
    },
    "colab": {
      "provenance": [],
      "include_colab_link": true
    }
  },
  "nbformat": 4,
  "nbformat_minor": 5
}