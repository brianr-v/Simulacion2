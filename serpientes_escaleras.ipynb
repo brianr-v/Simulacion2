{
  "cells": [
    {
      "cell_type": "markdown",
      "metadata": {
        "id": "view-in-github",
        "colab_type": "text"
      },
      "source": [
        "<a href=\"https://colab.research.google.com/github/brianr-v/Simulacion2/blob/main/serpientes_escaleras.ipynb\" target=\"_parent\"><img src=\"https://colab.research.google.com/assets/colab-badge.svg\" alt=\"Open In Colab\"/></a>"
      ]
    },
    {
      "cell_type": "markdown",
      "metadata": {
        "id": "nOtcza6xvbdo"
      },
      "source": [
        "#**Serpientes y escaleras**\n",
        "\n",
        "Resolveremos este problema de forma analitica y por medio de simulación."
      ]
    },
    {
      "cell_type": "markdown",
      "metadata": {
        "id": "pYgN5pdkvbdu"
      },
      "source": [
        "**Importamos librerías**\n",
        "\n",
        "Usaremos la librería random, así que la importamos."
      ]
    },
    {
      "cell_type": "code",
      "execution_count": null,
      "metadata": {
        "metadata": {},
        "id": "g4rcjrDJvbdv"
      },
      "outputs": [],
      "source": [
        "import random"
      ]
    },
    {
      "cell_type": "markdown",
      "metadata": {
        "id": "c2bdWvi8vbd5"
      },
      "source": [
        "**Función juegos**\n",
        "\n",
        "Toma como parametros el número de casillas del tablero y devuelve el promedio de jugadas para llegar al final."
      ]
    },
    {
      "cell_type": "code",
      "execution_count": null,
      "metadata": {
        "metadata": {},
        "id": "tcoF4enuvbd9"
      },
      "outputs": [],
      "source": [
        "def juego(casillas):\n",
        "    posicion_actual = 0\n",
        "    contador = 1\n",
        "\n",
        "    #print(serpiente(serpientes_entrada,posicion_actual))\n",
        "    while posicion_actual < casillas:\n",
        "        dado = random.randint(1,6)\n",
        "        posicion_actual = posicion_actual + dado\n",
        "\n",
        "        if posicion_actual in serpientes_entrada:\n",
        "            i = serpientes_entrada.index(posicion_actual)\n",
        "            posicion_actual = serpientes_salida[i]\n",
        "        elif posicion_actual in escaleras_entrada:\n",
        "            i2 = escaleras_entrada.index(posicion_actual)\n",
        "            posicion_actual = escaleras_salida[i2]\n",
        "\n",
        "        #print(\"En la jugada \", contador,\" avanzo \", dado,\". Tu posición es: \", posicion_actual)\n",
        "        contador += 1\n",
        "\n",
        "    return contador"
      ]
    },
    {
      "cell_type": "markdown",
      "metadata": {
        "id": "3O-JZeGlvbeA"
      },
      "source": [
        "**Simulaciones**\n",
        "\n",
        "LLamamos a la función juegos y hacemos varias simulaciones para sacar un promedio de jugadas."
      ]
    },
    {
      "cell_type": "code",
      "execution_count": null,
      "metadata": {
        "metadata": {},
        "id": "_Hm7Xo22vbeB",
        "outputId": "ca369dc3-fb07-4ffe-cb6a-4639ef6cd1f2"
      },
      "outputs": [
        {
          "name": "stdout",
          "output_type": "stream",
          "text": [
            "8.058768\n"
          ]
        }
      ],
      "source": [
        "# Tablero de 20 casillas\n",
        "serpientes_entrada = [13, 17]\n",
        "serpientes_salida = [4, 10]\n",
        "\n",
        "escaleras_entrada = [3, 15]\n",
        "escaleras_salida = [11, 19]\n",
        "\n",
        "n = 1000000\n",
        "\n",
        "sim = 0\n",
        "casillas = 20\n",
        "\n",
        "for i in range(n):\n",
        "    sim  += juego(casillas)\n",
        "\n",
        "print(sim/n)"
      ]
    }
  ],
  "metadata": {
    "kernelspec": {
      "display_name": "myenv",
      "language": "python",
      "name": "python3"
    },
    "language_info": {
      "codemirror_mode": {
        "name": "ipython",
        "version": 3
      },
      "file_extension": ".py",
      "mimetype": "text/x-python",
      "name": "python",
      "nbconvert_exporter": "python",
      "pygments_lexer": "ipython3",
      "version": "3.11.6"
    },
    "colab": {
      "provenance": [],
      "include_colab_link": true
    }
  },
  "nbformat": 4,
  "nbformat_minor": 0
}