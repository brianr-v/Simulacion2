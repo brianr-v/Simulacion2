{

  "cells": [
    {
      "cell_type": "markdown",
      "metadata": {
        "id": "view-in-github",
        "colab_type": "text"
      },
      "source": [
        "<a href=\"https://colab.research.google.com/github/brianr-v/Simulacion2/blob/main/serpientes_escaleras.ipynb\" target=\"_parent\"><img src=\"https://colab.research.google.com/assets/colab-badge.svg\" alt=\"Open In Colab\"/></a>"
      ]
    },
    {
      "cell_type": "markdown",
      "metadata": {
        "id": "4gY8fSkGRUGH"
      },
      "source": [
        "#**Serpientes y escaleras**\n",
        "\n",
        "Resolveremos este problema de forma analitica y por medio de simulación."
      ]
    },
    {
      "cell_type": "markdown",
      "metadata": {
        "id": "WbC8ExfdRUGP"
      },
      "source": [
        "**Simulación**\n",
        "\n",
        "Empecemos resolviendo el problema mediante simualción, qeu nos damos cuenta que es más facíl de obtener, que si lo comparamos con la forma analítica."
      ]
    },
    {
      "cell_type": "markdown",
      "metadata": {
        "id": "PhHFW00TRUGR"
      },
      "source": [
        "**Importamos librerías**\n",
        "\n",
        "Usaremos la librería random, así que la importamos."
      ]
    },
    {
      "cell_type": "code",
      "execution_count": null,
      "metadata": {
        "metadata": {},
        "id": "MAoKcR0nRUGS"
      },
      "outputs": [],
      "source": [
        "import random"
      ]
    },
    {
      "cell_type": "markdown",
      "metadata": {
        "id": "Gzjo0kmORUGW"
      },
      "source": [
        "**Función juegos**\n",
        "\n",
        "Toma como parametros el número de casillas del tablero y devuelve el promedio de jugadas para llegar al final."
      ]
    },
    {
      "cell_type": "code",
      "execution_count": null,
      "metadata": {
        "metadata": {},
        "id": "l2upMUkaRUGX"
      },
      "outputs": [],
      "source": [
        "def juego(casillas):\n",
        "    posicion_actual = 0\n",
        "    contador = 1\n",
        "\n",
        "    #print(serpiente(serpientes_entrada,posicion_actual))\n",
        "    while posicion_actual < casillas:\n",
        "        dado = random.randint(1,6)\n",
        "        posicion_actual = posicion_actual + dado\n",
        "\n",
        "        if posicion_actual in serpientes_entrada:\n",
        "            i = serpientes_entrada.index(posicion_actual)\n",
        "            posicion_actual = serpientes_salida[i]\n",
        "        elif posicion_actual in escaleras_entrada:\n",
        "            i2 = escaleras_entrada.index(posicion_actual)\n",
        "            posicion_actual = escaleras_salida[i2]\n",
        "\n",
        "        #print(\"En la jugada \", contador,\" avanzo \", dado,\". Tu posición es: \", posicion_actual)\n",
        "        contador += 1\n",
        "\n",
        "    return (contador - 1)"
      ]
    },
    {
      "cell_type": "markdown",
      "metadata": {
        "id": "_lnKmTDCRUGY"
      },
      "source": [
        "**Simulaciones**\n",
        "\n",
        "LLamamos a la función juegos y hacemos varias simulaciones para sacar un promedio de jugadas."
      ]
    },
    {
      "cell_type": "code",
      "execution_count": null,
      "metadata": {
        "metadata": {},
        "id": "IHhf8InhRUGZ",
        "outputId": "3325f3cd-66b5-460b-f5e2-e60511c0df43"
      },
      "outputs": [
        {
          "name": "stdout",
          "output_type": "stream",
          "text": [
            "El número de lanzamientos requerido para alcanzar el final del juego con 1000000 simulaciones es: 7.070606\n"
          ]
        }
      ],
      "source": [
        "# Tablero de 20 casillas\n",
        "serpientes_entrada = [13, 17]\n",
        "serpientes_salida = [4, 10]\n",
        "\n",
        "escaleras_entrada = [3, 15]\n",
        "escaleras_salida = [11, 19]\n",
        "\n",
        "n = 1000000\n",
        "\n",
        "sim = 0\n",
        "casillas = 20\n",
        "\n",
        "for i in range(n):\n",
        "    sim  += juego(casillas)\n",
        "\n",
        "print(\"El número de lanzamientos requerido para alcanzar el final del juego con\", n ,\n",
        "      \"simulaciones es:\", sim/n)"
      ]
    },
    {
      "cell_type": "markdown",
      "metadata": {
        "id": "i0Ug0AK7RUGc"
      },
      "source": [
        "#Forma analítica\n",
        "\n",
        "Ahora lo resolveremos matematicamente, usando cadenas de Markov, para este hacemos la matriz de probabilidades. Consideremos los estados $S= \\{0, 1, 2, 4, ..., 20\\}$, endonde cada estado está representado por las casillas del tablero, el estado = es donde inicamos el juego.\n",
        "\n",
        "La matríz que nos queda de la siguiete forma:\n",
        "\n",
        "\\begin{equation*}\n",
        "P =\n",
        "\\begin{bmatrix}\n",
        "0 & \\frac{1}{6} & \\frac{1}{6} & 0 & \\frac{1}{6} & \\frac{1}{6} & \\frac{1}{6} & 0  & 0 & 0  & 0 & \\frac{1}{6}  & 0 & 0  & 0 & 0  & 0 & 0 & 0 & 0 & 0 \\\\\n",
        "0 & 0 & \\frac{1}{6} & 0 & \\frac{1}{6} & \\frac{1}{6} & \\frac{1}{6} & \\frac{1}{6}  & 0 & 0  & 0 & \\frac{1}{6}  & 0 & 0  & 0 & 0  & 0 & 0 & 0 & 0 & 0 \\\\\n",
        "0 & 0 & 0 & 0 & \\frac{1}{6} & \\frac{1}{6} & \\frac{1}{6} & \\frac{1}{6}  & \\frac{1}{6} & 0  & 0 & \\frac{1}{6}  & 0 & 0  & 0 & 0  & 0 & 0 & 0 & 0 & 0 \\\\\n",
        "0 & 0 & 0 & 0 & \\frac{1}{6} & \\frac{1}{6} & \\frac{1}{6} & \\frac{1}{6}  & \\frac{1}{6} & \\frac{1}{6}  & 0 & 0  & 0 & 0  & 0 & 0  & 0 & 0 & 0 & 0 & 0 \\\\\n",
        "0 & 0 & 0 & 0 & 0 & \\frac{1}{6} & \\frac{1}{6} & \\frac{1}{6}  & \\frac{1}{6} & \\frac{1}{6}  & \\frac{1}{6} & 0  & 0 & 0  & 0 & 0  & 0 & 0 & 0 & 0 & 0 \\\\\n",
        "0 & 0 & 0 & 0 & 0 & 0 & \\frac{1}{6} & \\frac{1}{6} & \\frac{1}{6}  & \\frac{1}{6} & \\frac{1}{6}  & \\frac{1}{6}  & 0 & 0  & 0 & 0  & 0 & 0 & 0 & 0 & 0 \\\\\n",
        "0 & 0  & 0 & 0  & 0 & 0  & 0 &\\frac{1}{6} & \\frac{1}{6} & \\frac{1}{6} & \\frac{1}{6} & \\frac{1}{6} & \\frac{1}{6}& 0  & 0 & 0  & 0 & 0 & 0 & 0 & 0 \\\\\n",
        "0 & 0  & 0 & 0  & \\frac{1}{6} & 0  & 0 & 0  & \\frac{1}{6} & \\frac{1}{6} & \\frac{1}{6} & \\frac{1}{6} & \\frac{1}{6} & 0 & 0 & 0  & 0 & 0 & 0 & 0 & 0 \\\\\n",
        "0 & 0 & 0 & 0  & \\frac{1}{6} & 0  & 0 & 0  & 0 & \\frac{1}{6} & \\frac{1}{6} & \\frac{1}{6} & \\frac{1}{6} & 0 & \\frac{1}{6} & 0 & 0 & 0 & 0 & 0 & 0 \\\\\n",
        "0 & 0  & 0 & 0  & \\frac{1}{6} & 0  & 0 & 0  & 0 & 0  & \\frac{1}{6} & \\frac{1}{6} & \\frac{1}{6} & 0 & \\frac{1}{6} & 0 & 0 & 0 & 0 & \\frac{1}{6} & 0 \\\\\n",
        "0 & 0  & 0 & 0  & \\frac{1}{6} & 0  & 0 & 0  & 0 & 0  & 0 & \\frac{1}{6} & \\frac{1}{6} & 0 & \\frac{1}{6} & 0 & \\frac{1}{6} & 0 & 0 & \\frac{1}{6} & 0 \\\\\n",
        "0 & 0  & 0 & 0  & \\frac{1}{6} & 0  & 0 & 0  & 0 & 0  & \\frac{1}{6} & 0 & \\frac{1}{6} & 0 & \\frac{1}{6} & 0 & \\frac{1}{6} & 0 & 0 & \\frac{1}{6} & 0\\\\\n",
        "0 & 0  & 0 & 0  & \\frac{1}{6} & 0  & 0 & 0  & 0 & 0  & \\frac{1}{6} & 0 & 0 & 0 & \\frac{1}{6} & 0 & \\frac{1}{6} & 0 & \\frac{1}{6} & \\frac{1}{6} & 0 \\\\\n",
        "0 & 0  & 0 & 0  & 0 & 0  & 0 & 0  & 0 & 0  & \\frac{1}{6} & 0 & 0 & 0 & \\frac{1}{6} & 0 & \\frac{1}{6} & 0 & \\frac{1}{6} & \\frac{2}{6} & 0 \\\\\n",
        "0 & 0  & 0 & 0  & 0 & 0  & 0 & 0  & 0 & 0  & \\frac{1}{6} & 0 & 0 & 0 & 0 & 0 & \\frac{1}{6} & 0 & \\frac{1}{6} & \\frac{2}{6} & \\frac{1}{6} \\\\\n",
        "0 & 0  & 0 & 0  & 0 & 0  & 0 & 0  & 0 & 0  & \\frac{1}{6} & 0 & 0 & 0 & 0 & 0 & \\frac{1}{6} & 0 & \\frac{1}{6} & \\frac{1}{6} & \\frac{2}{6} \\\\\n",
        "0 & 0  & 0 & 0  & 0 & 0  & 0 & 0  & 0 & 0  & \\frac{1}{6} & 0 & 0 & 0 & 0 & 0 & 0 & 0 & \\frac{1}{6} & \\frac{1}{6} & \\frac{3}{6} \\\\\n",
        "0 & 0  & 0 & 0  & 0 & 0  & 0 & 0  & 0 & 0  & 0 & 0 & 0 & 0 & 0 & 0 & 0 & 0 & \\frac{1}{6} & \\frac{1}{6} & \\frac{4}{6} \\\\\n",
        "0 & 0  & 0 & 0  & 0 & 0  & 0 & 0  & 0 & 0  & 0 & 0 & 0 & 0 & 0 & 0 & 0 & 0 & 0 & \\frac{1}{6} & \\frac{5}{6} \\\\\n",
        "0 & 0  & 0 & 0  & 0 & 0 & 0 & 0  & 0 & 0  & 0 & 0  & 0 & 0  & 0 & 0  & 0 & 0 & 0 & 0 & 1 \\\\\n",
        "0 & 0  & 0 & 0  & 0 & 0 & 0 & 0  & 0 & 0  & 0 & 0  & 0 & 0  & 0 & 0  & 0 & 0 & 0 & 0 & 1 \\\\\n",
        "\\end{bmatrix}\n",
        "\\end{equation*}\n",
        "\n",
        "**Matríz de transición**\n",
        "Ahora es necesario determinar la matriz de transición que tiene la siguiente estructura.\n",
        "\n",
        "\\begin{equation*}\n",
        "P =\n",
        "\\begin{bmatrix}\n",
        "\\textbf{Q} & \\textbf{R} \\\\\n",
        "\\textbf{0} & \\textbf{I} \\\\\n",
        "\\end{bmatrix}\n",
        "\\end{equation*}\n",
        "\n",
        "donde\n",
        "\n",
        "\\begin{equation*}\n",
        "S = (\\textbf{I}-\\textbf{Q})^{-1}\n",
        "\\end{equation*}\n",
        "\n",
        "Con una calculadora de matrices en linea determinamos que se en promedio las jugadas para llegra al final del juego son 7.06"
      ]
    },
    {
      "cell_type": "markdown",
      "metadata": {
        "id": "xwzISSSaRUGe"
      },
      "source": [
        "**Conclución**\n",
        "\n",
        "Nos damos cuenta que es mucho más facíl de obtener el resultado por medio de la simulación, además de que el resultado es muy paracido al analítico. Sin duda es preferible la simualción en estos casos."
      ]
    }
  ],
  "metadata": {
    "kernelspec": {
      "display_name": "myenv",
      "language": "python",
      "name": "python3"
    },
    "language_info": {
      "codemirror_mode": {
        "name": "ipython",
        "version": 3
      },
      "file_extension": ".py",
      "mimetype": "text/x-python",
      "name": "python",
      "nbconvert_exporter": "python",
      "pygments_lexer": "ipython3",
      "version": "3.11.6"
    },
    "colab": {
      "provenance": [],
      "include_colab_link": true
    }
  },
  "nbformat": 4,
  "nbformat_minor": 0
}

