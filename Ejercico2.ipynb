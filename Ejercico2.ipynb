{
  "nbformat": 4,
  "nbformat_minor": 0,
  "metadata": {
    "colab": {
      "provenance": [],
      "authorship_tag": "ABX9TyMcRXtE5J8d0Jp1GVBDD6CT",
      "include_colab_link": true
    },
    "kernelspec": {
      "name": "python3",
      "display_name": "Python 3"
    },
    "language_info": {
      "name": "python"
    }
  },
  "cells": [
    {
      "cell_type": "markdown",
      "metadata": {
        "id": "view-in-github",
        "colab_type": "text"
      },
      "source": [
        "<a href=\"https://colab.research.google.com/github/brianr-v/Simulacion2/blob/main/Ejercico2.ipynb\" target=\"_parent\"><img src=\"https://colab.research.google.com/assets/colab-badge.svg\" alt=\"Open In Colab\"/></a>"
      ]
    },
    {
      "cell_type": "code",
      "execution_count": 4,
      "metadata": {
        "colab": {
          "base_uri": "https://localhost:8080/"
        },
        "id": "PyFTKuh0tNkR",
        "outputId": "d214e69e-edf0-459d-f23e-9752373f5a39"
      },
      "outputs": [
        {
          "output_type": "stream",
          "name": "stdout",
          "text": [
            "integral por ley de grandes numeros: 0.62849\n"
          ]
        }
      ],
      "source": [
        "import random\n",
        "import numpy as np\n",
        "\n",
        "def f(x):\n",
        "    return np.sqrt(np.arctan(x))\n",
        "n = 10000\n",
        "x = np.random.uniform(0,1,n)\n",
        "g = np.sqrt(np.arctan(x))\n",
        "\n",
        "arrint = np.empty((0,n))\n",
        "suma = 0\n",
        "for i in x:\n",
        "    suma+= f(i)\n",
        "    arrint = np.concatenate( ( arrint, suma/n) , axis=None)\n",
        "\n",
        "integral = suma/n\n",
        "print ('integral por ley de grandes numeros: %.5f' %(integral))"
      ]
    }
  ]
}