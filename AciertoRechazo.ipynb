{
  "nbformat": 4,
  "nbformat_minor": 0,
  "metadata": {
    "colab": {
      "provenance": [],
      "authorship_tag": "ABX9TyNp5shGg7SmAQZ8v443M+tx",
      "include_colab_link": true
    },
    "kernelspec": {
      "name": "python3",
      "display_name": "Python 3"
    },
    "language_info": {
      "name": "python"
    }
  },
  "cells": [
    {
      "cell_type": "markdown",
      "metadata": {
        "id": "view-in-github",
        "colab_type": "text"
      },
      "source": [
        "<a href=\"https://colab.research.google.com/github/brianr-v/Simulacion2/blob/main/AciertoRechazo.ipynb\" target=\"_parent\"><img src=\"https://colab.research.google.com/assets/colab-badge.svg\" alt=\"Open In Colab\"/></a>"
      ]
    },
    {
      "cell_type": "code",
      "execution_count": null,
      "metadata": {
        "id": "syQamK44S8tD"
      },
      "outputs": [],
      "source": [
        "import matplotlib.pyplot as plt\n",
        "import numpy as np\n",
        "\n",
        "def funcion_g(x):\n",
        "    # Define aquí la función g(X) que deseas evaluar\n",
        "    return np.sqrt(np.arctan(x))\n",
        "\n",
        "def acierto_Rechazo(a, b, c, n):\n",
        "    # Paso 1: Generar secuencia {Ui}^2n_i=1 ∼ Unif(0, 1)\n",
        "    u_secuencia = np.random.uniform(0, 1, 2 * n)\n",
        "\n",
        "    # Paso 2: Conformar pares (Ui, Un+i)\n",
        "    u_pares = u_secuencia.reshape((n, 2))\n",
        "    #print(u_pares[1])\n",
        "\n",
        "    # Paso 3: Calcular Xi = a + Ui(b − a)\n",
        "    x_valores = a + u_pares[:, 0] * (b - a)\n",
        "\n",
        "    # Paso 4: Calcular g(Xi)\n",
        "    g_valores = funcion_g(x_valores)\n",
        "    #print(\"\\nEvaluando los valores en la funcion\", g_valores)\n",
        "\n",
        "    # Paso 5: Contar los aciertos na tales que g(Xi) > c * Un+i\n",
        "    aciertos = np.sum(g_valores > c * u_pares[:, 1])\n",
        "    print(\"\\nNuero de aciertos\", aciertos)\n",
        "\n",
        "    # Paso 6: Estimar I calculando la media muestral θ2\n",
        "    theta_2 = c * (b - a) * (aciertos / n)\n",
        "\n",
        "    # Imprimir resultado\n",
        "    print(f\"Estimación de la integral: {theta_2:.4f}\")\n",
        "\n",
        "    # Valores para la grafica\n",
        "    #plt.figure(num=None, figsize=(10, 12), dpi=80, facecolor='w', edgecolor='k')\n",
        "    plt.scatter(x_valores, g_valores, marker='.', alpha=0.1, color ='red')\n",
        "    plt.tight_layout()\n",
        "    plt.xlabel('Número de iteraciones')\n",
        "    plt.ylabel('Valor de la integral')\n",
        "    plt.savefig('valorIntegralIteraciones.png')\n",
        "\n",
        "\n",
        "# Parámetros del intervalo [a, b]\n",
        "a = 0\n",
        "b = 2\n",
        "\n",
        "# Parámetro de umbral c\n",
        "c = 1\n",
        "\n",
        "# Número de puntos a generar\n",
        "n = 100000\n",
        "\n",
        "acierto_Rechazo(a, b , c, n)\n"
      ]
    }
  ]
}