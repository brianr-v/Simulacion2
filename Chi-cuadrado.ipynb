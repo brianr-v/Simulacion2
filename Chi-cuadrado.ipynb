{
  "cells": [
    {
      "cell_type": "markdown",
      "metadata": {
        "id": "view-in-github",
        "colab_type": "text"
      },
      "source": [
        "<a href=\"https://colab.research.google.com/github/brianr-v/Simulacion2/blob/main/Chi-cuadrado.ipynb\" target=\"_parent\"><img src=\"https://colab.research.google.com/assets/colab-badge.svg\" alt=\"Open In Colab\"/></a>"
      ]
    },
    {
      "cell_type": "markdown",
      "source": [
        "# Ejercicio 5\n",
        "Escriba un programa en python para realizar la prueba chi-cuadrada (X²).\n",
        "\n",
        "Para este ejercicio utilizo las librerias\n",
        "numpy y spicy.\n",
        "\n",
        "\n",
        "\n"
      ],
      "metadata": {
        "id": "oSs7z0hgvRYC"
      }
    },
    {
      "cell_type": "code",
      "source": [
        "import numpy as np\n",
        "import scipy.stats as stats"
      ],
      "metadata": {
        "id": "vK59STsrwDVk"
      },
      "execution_count": 1,
      "outputs": []
    },
    {
      "cell_type": "markdown",
      "source": [
        "**Definimos nuestras hipotesis:**\n",
        "\n",
        "H0: No hay diferencia significativa entre la distribución de la muestra y la distribución teorica.\n",
        "\n",
        "Ha: Hay diferencia significativa entre la distribución de la muestra y la distribución teorica.\n",
        "\n",
        "**Seleccionamos el nivel de confianza**\n",
        "\n",
        "En este caso definimos el α=0.05. El nivel de acpetación es del 95%.\n",
        "\n"
      ],
      "metadata": {
        "id": "PkuXvJUFwKd-"
      }
    },
    {
      "cell_type": "code",
      "source": [
        "alpha = 0.05"
      ],
      "metadata": {
        "id": "qzDzlyFhzcdn"
      },
      "execution_count": 2,
      "outputs": []
    },
    {
      "cell_type": "markdown",
      "source": [
        "**Agrupamiento de los datos muestrales**\n",
        "\n",
        "Exportamos los datos del ejercio 3 y 4."
      ],
      "metadata": {
        "id": "0sILkSOH0lkE"
      }
    },
    {
      "cell_type": "code",
      "source": [
        "# Datos de ejemplo 3 de la lista 1\n",
        "datos3 = [\n",
        "    0.38, 0.33, 0.25, 0.05, 0.69, 0.35, 0.98, 0.52, 0.12, 0.79,\n",
        "    0.50, 0.46, 0.95, 0.42, 0.49, 0.11, 0.78, 0.34, 0.02, 0.43,\n",
        "    0.07, 0.5, 0.05, 0.91, 0.77, 0.18, 0.21, 0.04, 0.17, 0.62,\n",
        "    0.91, 0.36, 0.48, 0.88, 0.52, 0.76, 0.99, 0.73, 0.82, 0.9]\n",
        "\n",
        "\n",
        "# Datos de ejemplo 4 de la lista 1\n",
        "datos4 = [\n",
        "    0.8797, 0.3884, 0.6289, 0.8750, 0.5999, 0.8589, 0.9996, 0.2415, 0.3808, 0.9606,\n",
        "    0.9848, 0.3469, 0.7977, 0.5844, 0.8147, 0.6431, 0.7387, 0.5613, 0.0318, 0.7401,\n",
        "    0.4557, 0.1592, 0.8536, 0.8846, 0.3410, 0.1492, 0.8681, 0.5291, 0.3188, 0.5992,\n",
        "    0.8376, 0.6235, 0.3681, 0.2088, 0.1525, 0.2006, 0.4720, 0.4272, 0.6360, 0.0954]"
      ],
      "metadata": {
        "id": "wX9FpDmr04ls"
      },
      "execution_count": 7,
      "outputs": []
    },
    {
      "cell_type": "markdown",
      "source": [
        "**Creamos una funcion que nos de el número de clases**\n",
        "\n",
        "Como ide general lo que tarto es usar la regla de Scott, que propone el siguiente cálculo para el ancho del intervalo (h):\n",
        "\n",
        " $h=\\frac{3.5\\cdot \\text{desviacion estandar de los datos}}{\\sqrt[3]{\\text{cantidad de datos}}}$\n",
        "\n",
        " Luego, el número de clases (k) se puede calcula:\n",
        "\n",
        " $k=\\left( \\frac{\\text{rango de datos}}{h} \\right)$\n",
        "\n",
        "En esta función pido como requisito la lista de datos.\n",
        "* Primero calculo la desviación estandar de los datos.\n",
        "* Despues calculo el ancho del intervalo según la regla de Scott.\n",
        "* Despues calculo el rango de los datos.\n",
        "* Luego calculo el número de clases.\n",
        "* Por último regreso \"num_clases\"\n",
        "\n",
        "\n",
        "\n",
        "\n"
      ],
      "metadata": {
        "id": "dl9kos-nQl_g"
      }
    },
    {
      "cell_type": "code",
      "source": [
        "def calcular_numero_clases(data):\n",
        "    # Calcular la desviación estándar de los datos\n",
        "    std_dev = np.std(data)\n",
        "\n",
        "    # Calcular el ancho del intervalo según la regla de Scott\n",
        "    h = 3.5 * std_dev / np.cbrt(len(data))\n",
        "\n",
        "    # Calcular el rango de los datos\n",
        "    data_range = np.max(data) - np.min(data)\n",
        "\n",
        "    # Calcular el número de clases\n",
        "    num_clases = int(np.ceil(data_range / h))\n",
        "\n",
        "    return num_clases"
      ],
      "metadata": {
        "id": "uX7Rx7QWQksw"
      },
      "execution_count": 8,
      "outputs": []
    },
    {
      "cell_type": "markdown",
      "source": [
        "**Creamos la función \"chi_squared_test\"**\n",
        "\n",
        "En donde pido la lista de los datos y \"alpha\" que es el nivel de aceptación.\n",
        "\n",
        "La función hace lo siguiente:\n",
        "* Primero determina el número de datos.\n",
        "* Despues llama a la función que calcula el número de clases.\n",
        "* Luego calculo el número esperado en la clase.\n",
        "* Despues creo una lista que contenga los intervalos teniendo comon referencia el # de clases  y le sumo 1.\n",
        "* Luego creo una lista vacia que contendra el número observado en la clase.\n",
        "* Despues creo un ciclo donde se contara las repeticiones de Oi en el intervalo y agregara a la lista Oi ese resultado.\n",
        "* Luego calculo $\\sum{\\frac{(Oi-Ei)²}{Ei}}$  \n",
        "* Por último calculo el valor critico y comparo con lo que obtuvimos, es decir, calculo $X²_c \\leq X²_{n-1}$, para comprobar la hipotesis nula.\n"
      ],
      "metadata": {
        "id": "VgqsMbtw1v2R"
      }
    },
    {
      "cell_type": "code",
      "source": [
        "def chi_squared_test(data, alpha):\n",
        "    # Determinar cuántos datos tiene la lista\n",
        "    t = len(data)\n",
        "\n",
        "    # Calcular el número de clases\n",
        "    clases = calcular_numero_clases(data)\n",
        "\n",
        "    # Calcular el número esperado\n",
        "    Ei = t / clases\n",
        "\n",
        "    # Crear una lista con los intervalos\n",
        "    intervalos = np.linspace(0, 1, clases + 1)\n",
        "\n",
        "    # Crear lista de resultados\n",
        "    Oi = []\n",
        "\n",
        "    # Este ciclo cuenta el numero de repeticiones de Oi en el intervalo\n",
        "    for i in range(len(intervalos) - 1):\n",
        "        mask = np.logical_and(data >= intervalos[i], data < intervalos[i + 1])\n",
        "        Oi.append(np.count_nonzero(mask))\n",
        "\n",
        "    # Calcular el estadístico de chi-cuadrado\n",
        "    chi2 = sum((oi - Ei) ** 2 / Ei for oi in Oi)\n",
        "\n",
        "    # Imprimir resultados\n",
        "    print(\"\\nEstadístico de chi-cuadrado:\", chi2)\n",
        "\n",
        "    # Calcular el valor crítico\n",
        "    valor_critico = stats.chi2.ppf(1 - alpha, clases)\n",
        "    print(\"\\nEl valor critico es: \", valor_critico)\n",
        "\n",
        "    if chi2 >= valor_critico :\n",
        "        print(\"\\nLos datos no parecen ser aleatorios (se rechaza la hipótesis nula).\")\n",
        "    else:\n",
        "        print(\"\\nLos datos parecen ser aleatorios (no se puede rechazar la hipótesis nula).\")"
      ],
      "metadata": {
        "id": "gRJmxlwRWSyn"
      },
      "execution_count": 9,
      "outputs": []
    },
    {
      "cell_type": "markdown",
      "source": [
        "**Resultados**\n",
        "Solo resta llamar a la funcion y imprimir resultados."
      ],
      "metadata": {
        "id": "1VdhgJ9O3jMa"
      }
    },
    {
      "cell_type": "code",
      "source": [
        "# Aplicar la prueba de chi-cuadrado\n",
        "#Ejercicio 3\n",
        "print(\"Ejercicio 3 de la lista 1\")\n",
        "chi_squared_test(datos3,alpha)\n",
        "\n",
        "#Ejercicio 4\n",
        "print(\"\\nEjercicio 4 de la lista 1\")\n",
        "chi_squared_test(datos4, alpha)\n"
      ],
      "metadata": {
        "id": "YGH2IfXd4UeW",
        "outputId": "2534d042-2aae-4f13-bee8-dceab3131f23",
        "colab": {
          "base_uri": "https://localhost:8080/"
        }
      },
      "execution_count": 10,
      "outputs": [
        {
          "output_type": "stream",
          "name": "stdout",
          "text": [
            "Ejercicio 3 de la lista 1\n",
            "\n",
            "Estadístico de chi-cuadrado: 1.4\n",
            "\n",
            "El valor critico es:  9.487729036781154\n",
            "\n",
            "Los datos parecen ser aleatorios (no se puede rechazar la hipótesis nula).\n",
            "\n",
            "Ejercicio 4 de la lista 1\n",
            "\n",
            "Estadístico de chi-cuadrado: 1.0\n",
            "\n",
            "El valor critico es:  9.487729036781154\n",
            "\n",
            "Los datos parecen ser aleatorios (no se puede rechazar la hipótesis nula).\n"
          ]
        }
      ]
    }
  ],
  "metadata": {
    "colab": {
      "provenance": [],
      "include_colab_link": true
    },
    "kernelspec": {
      "display_name": "Python 3",
      "name": "python3"
    }
  },
  "nbformat": 4,
  "nbformat_minor": 0
}