{
  "cells": [
    {
      "cell_type": "markdown",
      "metadata": {
        "id": "view-in-github",
        "colab_type": "text"
      },
      "source": [
        "<a href=\"https://colab.research.google.com/github/brianr-v/Simulacion2/blob/main/Chi-cuadrado.ipynb\" target=\"_parent\"><img src=\"https://colab.research.google.com/assets/colab-badge.svg\" alt=\"Open In Colab\"/></a>"
      ]
    },
    {
      "cell_type": "markdown",
      "source": [
        "# Ejercicio 5\n",
        "Escriba un programa en pyrhon para realizar la prueba chi-cuadrada (X²).\n",
        "\n",
        "Utilizo las librerias\n",
        "numpy y spicy.\n",
        "\n",
        "\n",
        "\n"
      ],
      "metadata": {
        "id": "oSs7z0hgvRYC"
      }
    },
    {
      "cell_type": "code",
      "source": [
        "import numpy as np\n",
        "from scipy.stats import chi2_contingency"
      ],
      "metadata": {
        "id": "vK59STsrwDVk"
      },
      "execution_count": null,
      "outputs": []
    },
    {
      "cell_type": "markdown",
      "source": [
        "**Definimos nuestras hipotesis:**\n",
        "\n",
        "H0: No hay diferencia significativa entre la distribución de la muestra y la distribución teorica.\n",
        "\n",
        "Ha: Hay diferencia significativa entre la distribución de la muestra y la distribución teorica.\n",
        "\n",
        "**Seleccionamos el nivel de confianza**\n",
        "\n",
        "En este caso definimos el α=0.05. El nivel de acpetación es del 95%.\n",
        "\n"
      ],
      "metadata": {
        "id": "PkuXvJUFwKd-"
      }
    },
    {
      "cell_type": "code",
      "source": [
        "alpha = 0.05"
      ],
      "metadata": {
        "id": "qzDzlyFhzcdn"
      },
      "execution_count": null,
      "outputs": []
    },
    {
      "cell_type": "markdown",
      "source": [
        "**Agrupamiento de los datos muestrales**\n",
        "\n",
        "Exportamos los datos del ejercio 3 y 4."
      ],
      "metadata": {
        "id": "0sILkSOH0lkE"
      }
    },
    {
      "cell_type": "code",
      "source": [
        "# Datos de ejemplo 3 de la lista 1\n",
        "datos3 = [\n",
        "    [0.38, 0.33, 0.25, 0.05, 0.69, 0.35, 0.98, 0.52, 0.12, 0.79],\n",
        "    [0.50, 0.46, 0.95, 0.42, 0.49, 0.11, 0.78, 0.34, 0.02, 0.43],\n",
        "    [0.07, 0.5, 0.05, 0.91, 0.77, 0.18, 0.21, 0.04, 0.17, 0.62],\n",
        "    [0.91, 0.36, 0.48, 0.88, 0.52, 0.76, 0.99, 0.73, 0.82, 0.9]\n",
        "]\n",
        "\n",
        "# Datos de ejemplo 4 de la lista 1\n",
        "datos4 = [\n",
        "    [0.8797, 0.3884, 0.6289, 0.8750, 0.5999, 0.8589, 0.9996, 0.2415, 0.3808, 0.9606],\n",
        "    [0.9848, 0.3469, 0.7977, 0.5844, 0.8147, 0.6431, 0.7387, 0.5613, 0.0318, 0.7401],\n",
        "    [0.4557, 0.1592, 0.8536, 0.8846, 0.3410, 0.1492, 0.8681, 0.5291, 0.3188, 0.5992],\n",
        "    [0.8376, 0.6235, 0.3681, 0.2088, 0.1525, 0.2006, 0.4720, 0.4272, 0.6360, 0.0954]\n",
        "]"
      ],
      "metadata": {
        "id": "wX9FpDmr04ls"
      },
      "execution_count": null,
      "outputs": []
    },
    {
      "cell_type": "markdown",
      "source": [
        "**Creamos la función \"chi_squared_test\"**\n",
        "\n",
        "En donde primero convierto la lista de listas en una matriz Numpy.\n",
        "\n",
        "Despues aplicamos la prueba de chi-cuadrado con la funcion \"chi2_contingency\".\n",
        "\n",
        "Luego imprimo los resultados del estadistico chi-cuadrado y p-value.\n",
        "\n",
        "Por último solo comparo p-value y el alpha.\n"
      ],
      "metadata": {
        "id": "VgqsMbtw1v2R"
      }
    },
    {
      "cell_type": "code",
      "source": [
        "def chi_squared_test(data):\n",
        "    # Convertir la lista a una matriz NumPy\n",
        "    data_observado = np.array(data)\n",
        "\n",
        "    # Aplicar la prueba de chi-cuadrado\n",
        "    chi2, p_value, _, _ = chi2_contingency(data_observado)\n",
        "\n",
        "    # Imprimir resultados\n",
        "    print(\"\\nEstadístico de chi-cuadrado:\", chi2)\n",
        "    print(\"Valor p: \", p_value)\n",
        "\n",
        "    # Comprobar la significancia\n",
        "    alpha = 0.05\n",
        "    if p_value < alpha:\n",
        "        print(\"Los datos no parecen ser aleatorios (se rechaza la hipótesis nula).\")\n",
        "    else:\n",
        "        print(\"Los datos parecen ser aleatorios (no se puede rechazar la hipótesis nula).\")\n"
      ],
      "metadata": {
        "id": "X1Gy3a4n3ZsA"
      },
      "execution_count": null,
      "outputs": []
    },
    {
      "cell_type": "markdown",
      "source": [
        "**Resultados**\n",
        "Solo resta llamar a la funcion y imprimir resultados."
      ],
      "metadata": {
        "id": "1VdhgJ9O3jMa"
      }
    },
    {
      "cell_type": "code",
      "source": [
        "#Ejercicio 3\n",
        "print(\"Ejercicio 3 de la lista 1\")\n",
        "chi_squared_test(datos3)\n",
        "#Ejercicio 4\n",
        "print(\"\\nEjercicio 4 de la lista 1\")\n",
        "chi_squared_test(datos4)\n"
      ],
      "metadata": {
        "id": "YGH2IfXd4UeW",
        "outputId": "96500951-50f0-4219-82cb-d2f523f9f9d3",
        "colab": {
          "base_uri": "https://localhost:8080/"
        }
      },
      "execution_count": null,
      "outputs": [
        {
          "output_type": "stream",
          "name": "stdout",
          "text": [
            "Ejercicio 3 de la lista 1\n",
            "\n",
            "Estadístico de chi-cuadrado: 4.9846339483633875\n",
            "Valor p:  0.999999024916566\n",
            "Los datos parecen ser aleatorios (no se puede rechazar la hipótesis nula).\n",
            "\n",
            "Ejercicio 4 de la lista 1\n",
            "\n",
            "Estadístico de chi-cuadrado: 3.594393846713948\n",
            "Valor p:  0.9999999776133761\n",
            "Los datos parecen ser aleatorios (no se puede rechazar la hipótesis nula).\n"
          ]
        }
      ]
    }
  ],
  "metadata": {
    "colab": {
      "provenance": [],
      "include_colab_link": true
    },
    "kernelspec": {
      "display_name": "Python 3",
      "name": "python3"
    }
  },
  "nbformat": 4,
  "nbformat_minor": 0
}