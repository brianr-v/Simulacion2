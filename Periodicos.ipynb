{
 "cells": [
  {
   "cell_type": "markdown",
   "metadata": {},
   "source": [
    "# Ejercicio periodicos"
   ]
  },
  {
   "cell_type": "markdown",
   "metadata": {},
   "source": [
    "Un comerciante vende periodicos a $\\$11$ pesos cada uno. Cada periodico le cuesta al comerciante $\\$9$ pesos cada auno. Las ventas de periodo del comercio a partir de su experiencia se reflejan en la tabla siguiente. \n"
   ]
  },
  {
   "cell_type": "markdown",
   "metadata": {},
   "source": [
    "<table>\n",
    "    <tr style=\"background-color: #008585;\">\n",
    "        <th>Periodicos</th>\n",
    "        <th>30</th>\n",
    "        <th>40</th>\n",
    "        <th>50</th>\n",
    "        <th>60</th>\n",
    "        <th>70</th>\n",
    "    </tr>\n",
    "    <tr style=\"background-color: #74a892;\">\n",
    "        <td>f(x)</td>\n",
    "        <td>0.20</td>\n",
    "        <td>0.25</td>\n",
    "        <td>0.25</td>\n",
    "        <td>0.20</td>\n",
    "        <td>0.10</td>\n",
    "    </tr>\n",
    "</table>\n"
   ]
  },
  {
   "cell_type": "markdown",
   "metadata": {},
   "source": [
    "Consideremos un costo de $\\$2$ pesos por venta perdida y un costo de $\\$1$ peso por cada reciclaje de cada periodico no vendido. Determine el beneficio promedio diario si pide 50 periodicos cada día.\n",
    "1. Por simulación.\n",
    "2. Analíticamente."
   ]
  },
  {
   "cell_type": "markdown",
   "metadata": {},
   "source": [
    "## Simulación"
   ]
  },
  {
   "cell_type": "markdown",
   "metadata": {},
   "source": [
    "Formulamos la distribución de probabilidad de cada variable."
   ]
  },
  {
   "cell_type": "markdown",
   "metadata": {},
   "source": [
    "<table>\n",
    "    <tr style=\"background-color: #008585;\">\n",
    "        <th>Periodicos</th>\n",
    "        <th>30</th>\n",
    "        <th>40</th>\n",
    "        <th>50</th>\n",
    "        <th>60</th>\n",
    "        <th>70</th>\n",
    "    </tr>\n",
    "    <tr style=\"background-color: #74a892;\">\n",
    "        <td>f(x)</td>\n",
    "        <td>0.20</td>\n",
    "        <td>0.25</td>\n",
    "        <td>0.25</td>\n",
    "        <td>0.20</td>\n",
    "        <td>0.10</td>\n",
    "    </tr>\n",
    "</table>\n"
   ]
  },
  {
   "cell_type": "markdown",
   "metadata": {},
   "source": [
    "Establecemos la distribución acumulada de probabilidad de cada variable."
   ]
  },
  {
   "cell_type": "markdown",
   "metadata": {},
   "source": [
    "<table>\n",
    "    <tr style=\"background-color: #008585;\">\n",
    "        <th>Periodicos</th>\n",
    "        <th>30</th>\n",
    "        <th>40</th>\n",
    "        <th>50</th>\n",
    "        <th>60</th>\n",
    "        <th>70</th>\n",
    "    </tr>\n",
    "    <tr style=\"background-color: #74a892;\">\n",
    "        <td>f(x)</td>\n",
    "        <td>0.20</td>\n",
    "        <td>0.25</td>\n",
    "        <td>0.25</td>\n",
    "        <td>0.20</td>\n",
    "        <td>0.10</td>\n",
    "    </tr>\n",
    "    <tr style=\"background-color: #74a892;\">\n",
    "        <td>F(x)</td>\n",
    "        <td>0.20</td>\n",
    "        <td>0.45</td>\n",
    "        <td>0.70</td>\n",
    "        <td>0.90</td>\n",
    "        <td>1.00</td>\n",
    "    </tr>\n",
    "</table>\n"
   ]
  },
  {
   "cell_type": "markdown",
   "metadata": {},
   "source": [
    "Establecemos el intervalo de números aleatorios correspondiente a cada valor de cada una de las variables."
   ]
  },
  {
   "cell_type": "markdown",
   "metadata": {},
   "source": [
    "<table>\n",
    "    <tr style=\"background-color: #008585;\">\n",
    "        <th>Periodicos</th>\n",
    "        <th>30</th>\n",
    "        <th>40</th>\n",
    "        <th>50</th>\n",
    "        <th>60</th>\n",
    "        <th>70</th>\n",
    "    </tr>\n",
    "    <tr style=\"background-color: #74a892;\">\n",
    "        <td>f(x)</td>\n",
    "        <td>0.20</td>\n",
    "        <td>0.25</td>\n",
    "        <td>0.25</td>\n",
    "        <td>0.20</td>\n",
    "        <td>0.10</td>\n",
    "    </tr>\n",
    "    <tr style=\"background-color: #74a892;\">\n",
    "        <td>F(x)</td>\n",
    "        <td>0.20</td>\n",
    "        <td>0.45</td>\n",
    "        <td>0.70</td>\n",
    "        <td>0.90</td>\n",
    "        <td>1.00</td>\n",
    "    </tr>\n",
    "    <tr style=\"background-color: #74a892;\">\n",
    "        <td>Intervalos</td>\n",
    "        <td>(0,0.20)</td>\n",
    "        <td>(0.21,0.45)</td>\n",
    "        <td>(0.46,0.70)</td>\n",
    "        <td>(0.71,0.90)</td>\n",
    "        <td>(0.91,1.00)</td>\n",
    "    </tr>\n",
    "</table>\n"
   ]
  },
  {
   "cell_type": "markdown",
   "metadata": {},
   "source": [
    "Empezamos la simulación. Generamos números aleatorios."
   ]
  },
  {
   "cell_type": "markdown",
   "metadata": {},
   "source": [
    "### Importamos librerias"
   ]
  },
  {
   "cell_type": "code",
   "execution_count": 2,
   "metadata": {},
   "outputs": [],
   "source": [
    "import numpy as np\n",
    "import random\n",
    "import scipy.stats as stats\n",
    "import matplotlib.pyplot as plt"
   ]
  },
  {
   "cell_type": "markdown",
   "metadata": {},
   "source": [
    "### Definimos las funciones "
   ]
  },
  {
   "cell_type": "markdown",
   "metadata": {},
   "source": [
    "* \"periodicos()\"\n",
    "* \"ganacias()\"\n",
    "* \"experimento()\"\n",
    "* \"estabilidad_simulacion()\"\n",
    "* \"simu()\""
   ]
  },
  {
   "cell_type": "code",
   "execution_count": 3,
   "metadata": {},
   "outputs": [],
   "source": [
    "\n",
    "def periodicos(u): # Pide como entrada un número aleatorio.\n",
    "    periodico = [30, 40, 50, 60, 70] # Posibles demandas de periodicos\n",
    "    acumulado = [0, 0.20, 0.45, 0.70, 0.90, 1] # Intervalos de probabilidad de las posibles demandas de periodicos.\n",
    "    simu = 0\n",
    "\n",
    "    for i in range(len(acumulado)-1): \n",
    "        if  acumulado[i]<u and u <= acumulado[i+1]: # Esta condición identificara en que intervalo de probabilidad cae el número aleatorio u.\n",
    "            simu = simu + periodico[i] \n",
    "            \n",
    "    return simu # Regresa la cantidad demandada de periodicos en un día."
   ]
  },
  {
   "cell_type": "code",
   "execution_count": 4,
   "metadata": {},
   "outputs": [],
   "source": [
    "def ganancias(n): # Pide la cantidad de periodicos demandados en un día (n).\n",
    "    cantidad = 50 # Cantidad de periodicos que pide al día el vendedor.\n",
    "    precio = 11 # Precio al que se vende cada periodico\n",
    "    costo = 9 # Costo de cada periodico\n",
    "    perdida = 2 # Costo de venta perdida por cada periodico.\n",
    "    reciclaje = 1 # Costo por reciclaje de cada periodico.\n",
    "    ganancia = 0\n",
    "    \n",
    "    if n < cantidad:\n",
    "        ganancia = n*(precio)-cantidad*(costo)-(cantidad-n)*(reciclaje) \n",
    "    elif n == cantidad: \n",
    "        ganancia = n*(precio)-cantidad*(costo) \n",
    "    else: \n",
    "        ganancia = (cantidad)*(precio)-cantidad*(costo)-(n-cantidad)*(perdida) \n",
    "         \n",
    "    return ganancia # Regreamos la ganancia de acuerdo al número de periodicos demandados."
   ]
  },
  {
   "cell_type": "code",
   "execution_count": 5,
   "metadata": {},
   "outputs": [],
   "source": [
    "def experimento(iteraciones): # Pide el número de experiementos descrito anteriormente.\n",
    "    i = 0\n",
    "    utilidad = 0  \n",
    "    Lista = [] \n",
    "    while i <= iteraciones:\n",
    "        utilidad = utilidad + ganancias(periodicos(random.uniform(0,1))) # Esta utilidad ira sumando la ganancia de un día de acuerdo a la demanda de periodicos.\n",
    "        i += 1\n",
    "        beneficio = utilidad/i # Calcula el beneficio promedio mencionada en Lista.\n",
    "        Lista.append(beneficio)\n",
    "    return Lista #Regresa una lista del beneficio promedio diario se pide 50 periodicos cada día."
   ]
  },
  {
   "cell_type": "code",
   "execution_count": 6,
   "metadata": {},
   "outputs": [],
   "source": [
    "def estabilidad_simulacion(ensayos, area):\n",
    "    plt.plot(ensayos,area)\n",
    "    plt.xlabel('Número de ensayos')\n",
    "    plt.ylabel('Beneficio')\n",
    "    plt.title('Beneficio promedio diario al pedir 50 periodicos')\n",
    "    plt.show()"
   ]
  },
  {
   "cell_type": "code",
   "execution_count": 7,
   "metadata": {},
   "outputs": [],
   "source": [
    "def sim(repeticiones): \n",
    "    aproximacion = []\n",
    "    for i in range(repeticiones):\n",
    "        aproximacion.append(np.mean(experimento(1000))) \n",
    "    return aproximacion "
   ]
  },
  {
   "cell_type": "markdown",
   "metadata": {},
   "source": [
    "### Llamamos a las funciones "
   ]
  },
  {
   "cell_type": "code",
   "execution_count": 8,
   "metadata": {},
   "outputs": [
    {
     "name": "stdout",
     "output_type": "stream",
     "text": [
      "Beneficios promedio diarios:  14.55692941277415\n"
     ]
    }
   ],
   "source": [
    "n = 1000\n",
    "exp = experimento(n) # Hara el experimento 1000 veces, es decir, nos dara 1000 beneficios promedio diario.\n",
    "\n",
    "print(\"Beneficios promedio diarios: \", np.mean(exp))"
   ]
  },
  {
   "cell_type": "code",
   "execution_count": 9,
   "metadata": {},
   "outputs": [
    {
     "data": {
      "image/png": "[encoded data removed]",
      "text/plain": [
       "<Figure size 640x480 with 1 Axes>"
      ]
     },
     "metadata": {},
     "output_type": "display_data"
    }
   ],
   "source": [
    "ensayos1 = range(0,n+1)\n",
    "estabilidad_simulacion(ensayos1, exp)"
   ]
  },
  {
   "cell_type": "code",
   "execution_count": 10,
   "metadata": {},
   "outputs": [
    {
     "data": {
      "image/png": "[encoded data removed]",
      "text/plain": [
       "<Figure size 640x480 with 1 Axes>"
      ]
     },
     "metadata": {},
     "output_type": "display_data"
    }
   ],
   "source": [
    "N = 300\n",
    "simulacion = sim(N)\n",
    "\n",
    "np.mean(simulacion)\n",
    "\n",
    "plt.hist(simulacion) #Grafica las frecuencias de la aproximación a la probabilidad de las N simualciones con 750 experiementos cada una.\n",
    "plt.xlabel('Iteraciones')\n",
    "plt.ylabel('Frecuencia')\n",
    "plt.title('Probabilidad')\n",
    "plt.show()"
   ]
  },
  {
   "cell_type": "markdown",
   "metadata": {},
   "source": [
    "## Analíticamente"
   ]
  },
  {
   "cell_type": "markdown",
   "metadata": {},
   "source": [
    "Para calcular el beneficio esperado promedio, lo veremos por casos:\n",
    "Caso 1, la demanda sea 30.\n",
    "\n",
    "\\begin{equation*}\n",
    "\\begin{aligned}\n",
    "\\text{Ganancia 1} &= \\text{periodicos vendidos*precio - periodicos pedidos*costo de periodico - periodicos que sobraron * costo de reciclaje}\\\\\n",
    "&= 30*\\$11 - 50*\\$9 - 20*\\$1 = -\\$140 \n",
    "\\end{aligned}\n",
    "\\end{equation*}\n",
    "\n",
    "Caso 2, la demanda sea 40.\n",
    "\n",
    "\\begin{equation*}\n",
    "\\begin{aligned}\n",
    "\\text{Ganancia 2} &= \\text{periodicos vendidos*precio - periodicos pedidos*costo de periodico - periodicos que sobraron * costo de reciclaje}\\\\\n",
    "&= 40*\\$11 - 50*\\$9 - 10*\\$1 = -\\$20 \n",
    "\\end{aligned}\n",
    "\\end{equation*}\n",
    "\n",
    "Caso 3, la demanda sea 50.\n",
    "\n",
    "\\begin{equation*}\n",
    "\\begin{aligned}\n",
    "\\text{Ganancia 3} &= \\text{periodicos vendidos*precio - periodicos pedidos*costo de periodico}\\\\\n",
    "&= 50*\\$11 - 50*\\$9= \\$100 \n",
    "\\end{aligned}\n",
    "\\end{equation*}\n",
    "\n",
    "Caso 4, la demanda sea 60.\n",
    "\n",
    "\\begin{equation*}\n",
    "\\begin{aligned}\n",
    "\\text{Ganancia 4} &= \\text{periodicos vendidos*precio - periodicos pedidos*costo de periodico - periodicos que faltaron * costo de perdida de venta}\\\\\n",
    "&= 50*\\$11 - 50*\\$9 - 10*\\$2 = \\$80 \n",
    "\\end{aligned}\n",
    "\\end{equation*}\n",
    "\n",
    "Caso 5, la demanda sea 70.\n",
    "\n",
    "\\begin{equation*}\n",
    "\\begin{aligned}\n",
    "\\text{Ganancia 5} &= \\text{periodicos vendidos*precio - periodicos pedidos*costo de periodico - periodicos que faltaron * costo de perdida de venta}\\\\\n",
    "&= 50*\\$11 - 50*\\$9 - 20*\\$2 = \\$60 \n",
    "\\end{aligned}\n",
    "\\end{equation*}\n",
    "\n",
    "Por lo que el beneficio promedio diario si pide 50 periodicos cada día es:\n",
    "\n",
    "\\begin{equation*}\n",
    "\\begin{aligned}\n",
    "\\text{Beneficio} &= \\sum_{i=1}^{5} \\text{ganancia}_i \\times \\text{p}(\\text{ganancia}_i) \\\\\n",
    "&= (-\\$140 \\times 0.20) + (-\\$20 \\times 0.25) + (\\$100 \\times 0.25) + (\\$80 \\times 0.20) + (\\$60 \\times 0.10) \\\\\n",
    "&= -\\$28 -\\$5 + \\$25 + \\$16 + \\$6 \\\\\n",
    " \\text{Beneficio} &= \\$14\n",
    "\\end{aligned}\n",
    "\\end{equation*}"
   ]
  }
 ],
 "metadata": {
  "kernelspec": {
   "display_name": "myenv",
   "language": "python",
   "name": "python3"
  },
  "language_info": {
   "codemirror_mode": {
    "name": "ipython",
    "version": 3
   },
   "file_extension": ".py",
   "mimetype": "text/x-python",
   "name": "python",
   "nbconvert_exporter": "python",
   "pygments_lexer": "ipython3",
   "version": "3.11.6"
  }
 },
 "nbformat": 4,
 "nbformat_minor": 2
}
