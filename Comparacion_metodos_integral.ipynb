{
  "cells": [
    {
      "cell_type": "markdown",
      "metadata": {
        "colab_type": "text",
        "id": "view-in-github"
      },
      "source": [
        "<a href=\"https://colab.research.google.com/github/brianr-v/Simulacion2/blob/main/Comparacion_metodos_integral.ipynb\" target=\"_parent\"><img src=\"https://colab.research.google.com/assets/colab-badge.svg\" alt=\"Open In Colab\"/></a>"
      ]
    },
    {
      "cell_type": "markdown",
      "metadata": {
        "id": "2WXBfeEf3lik"
      },
      "source": [
        "#Aproximación a una integral por varios métodos\n",
        "\n",
        "$I = \\int_0 ^ 1\\frac{e^x - 1}{e - 1} \\cdot dx$\n",
        "\n",
        "Utilizaremos 4 métodos, con un tamaño N fijo, los métodos que usaremos es:\n",
        "* Media muestral.\n",
        "* Acierto y error.\n",
        "* Muestreo importancia.\n",
        "* Muestreo estratificado.\n",
        "\n",
        "Primero lo resolvemos de manera analítica:\n",
        "\n",
        "$I = \\int_0 ^ 1\\frac{e^x - 1}{e - 1} \\cdot dx$\n",
        "\n",
        "$=\\int_0 ^ 1\\frac{e^x - 1}{e - 1} \\cdot dx = \\frac{1}{e-1}[\\int_0 ^ 1 e^x \\cdot dx - \\int_0 ^ 1 1 \\cdot dx]$\n",
        "\n",
        "$=\\frac{1}{e-1} [e^x |_0^1 - x |_0^1] = \\frac{1}{e-1} (e - e^0 - 1 - 0) $\n",
        "\n",
        "$=\\frac{1}{e-1} (e - 2) = \\frac{e - 2}{e - 1}$\n",
        "\n",
        "$I = \\frac{e - 2}{e - 1} \\approx 0.418023$\n",
        "\n",
        "Ahora lo resolvemos mediante simulación."
      ]
    },
    {
      "cell_type": "markdown",
      "metadata": {
        "id": "DMKOPy213lis"
      },
      "source": [
        "**Importamos librerías**\n",
        "\n",
        "Importamos las líbrerías necesarios."
      ]
    },
    {
      "cell_type": "code",
      "execution_count": 3,
      "metadata": {
        "id": "zYqKiyzT3lit"
      },
      "outputs": [],
      "source": [
        "import numpy as np\n",
        "import random\n",
        "import pandas as pd"
      ]
    },
    {
      "cell_type": "markdown",
      "metadata": {
        "id": "3Lh1MBAu3liw"
      },
      "source": [
        "**Media muestral**\n",
        "\n",
        "Definimos una función que contenga el método media muestral."
      ]
    },
    {
      "cell_type": "code",
      "execution_count": 4,
      "metadata": {
        "id": "t_tQOkwT3liw"
      },
      "outputs": [],
      "source": [
        "def media_muestral(a, b, n):\n",
        "    # Contador que sumara las evaluaciones de la funcion en el intervalo de integración\n",
        "    contador = 0\n",
        "    for i in range(1, n + 1):\n",
        "        u = np.random.uniform(0, 1)\n",
        "        contador = contador + g((b - a)* u + a)\n",
        "\n",
        "    aproximacion = contador / n\n",
        "\n",
        "    return aproximacion"
      ]
    },
    {
      "cell_type": "markdown",
      "metadata": {
        "id": "NXgVT0hT3lix"
      },
      "source": [
        "**Acierto y error**\n",
        "\n",
        "Definimos una función que contenga el método acierto error."
      ]
    },
    {
      "cell_type": "code",
      "execution_count": 5,
      "metadata": {
        "id": "MscwdMRZ3liy"
      },
      "outputs": [],
      "source": [
        "def acierto_error(a, b, c, n):\n",
        "    aciertos = 0\n",
        "    area = []\n",
        "    for i in range(1,n+1):\n",
        "        # Generar dos númeos aleatorios independientes\n",
        "        u = np.random.uniform(0,1,2)\n",
        "\n",
        "        # Aplicar la transformada inversa\n",
        "        x_valores = a + u[0] * (b - a)      #Utilizar la tranformada inversa\n",
        "\n",
        "        # Calcular g(Xi)\n",
        "        g_valores = g(x_valores)\n",
        "\n",
        "        # Paso 5: Contar los aciertos tales que g(Xi) > c * Un+i\n",
        "        if g_valores > c * u[1]:\n",
        "            aciertos += 1\n",
        "\n",
        "        # Paso 6: Estimar I calculando la media muestral θ2\n",
        "        theta_2 = c * (b - a) * (aciertos / i)\n",
        "        area.append(theta_2)\n",
        "\n",
        "    return area"
      ]
    },
    {
      "cell_type": "markdown",
      "metadata": {
        "id": "0gtvHM5k3liz"
      },
      "source": [
        "**Muestreo importancia**\n",
        "\n",
        "Definimos una función que contenga el método muestreo importancia."
      ]
    },
    {
      "cell_type": "code",
      "execution_count": 6,
      "metadata": {
        "id": "4dRDrEux3liz"
      },
      "outputs": [],
      "source": [
        "f_x = []\n",
        "g_x = []\n",
        "\n",
        "def muestreo_importancia(a, b, n):\n",
        "    for i in range(n):\n",
        "        x = np.random.uniform(a, b)\n",
        "        f_x.append(f(x))\n",
        "        g_x.append(g(x))\n",
        "\n",
        "\n",
        "    integral =  sum(g_x) / sum(f_x )\n",
        "\n",
        "    return integral\n"
      ]
    },
    {
      "cell_type": "markdown",
      "metadata": {
        "id": "-nBg9I1Y3li0"
      },
      "source": [
        "**Muestreo estratificado**\n",
        "\n",
        "Definimos una función que contenga el método muestreo estratificado."
      ]
    },
    {
      "cell_type": "code",
      "execution_count": 7,
      "metadata": {
        "id": "1wQ80QPU3li0"
      },
      "outputs": [],
      "source": [
        "def muestreo_estratificado(a, b, m, N):\n",
        "    l = (b-a)/m\n",
        "    puntos = int(N/m)\n",
        "    media = 0\n",
        "    for j in range(a, m + 1):\n",
        "        for i in range(1, puntos + 1):\n",
        "            x = l*np.random.uniform(0,1) + (j - 1)/m\n",
        "            media = media + g(x)\n",
        "\n",
        "    return media/N"
      ]
    },
    {
      "cell_type": "markdown",
      "metadata": {
        "id": "0RlJu9dO3li1"
      },
      "source": [
        "**Ejecución de los métodos**\n",
        "\n",
        "Los métodos seran ejecutados 1000 veces.\n",
        "\n",
        "Despues para tener mejor aproximación, ejecutaremos 1000 veces cada experimento."
      ]
    },
    {
      "cell_type": "code",
      "execution_count": 8,
      "metadata": {
        "id": "It4gxyRG3li1"
      },
      "outputs": [],
      "source": [
        "def simulacion(N):\n",
        "    n = 1000\n",
        "    MM = []\n",
        "    AE = []\n",
        "    MI = []\n",
        "    ME = []\n",
        "\n",
        "    # Parámetros del intervalo [a, b]\n",
        "    a = 0\n",
        "    b = 1\n",
        "\n",
        "    # Parámetro de umbral c \"CAMBIAR SI ES NECESARIO\"\n",
        "    c = 1.2\n",
        "\n",
        "    # Número de puntos a generar\n",
        "    n = 1000\n",
        "\n",
        "    m= 10\n",
        "\n",
        "    # Media muestral\n",
        "    for i in range(N):\n",
        "        MM.append(media_muestral(a, b, n))\n",
        "\n",
        "    # Acierto y error\n",
        "    for i in range(N):\n",
        "        AE.append(acierto_error(a, b, c, n))\n",
        "\n",
        "    # Muestreo importancia\n",
        "    for i in range(N):\n",
        "        MI.append(muestreo_importancia(a, b, n))\n",
        "\n",
        "    # Muestreo estratificado\n",
        "    for i in range(N):\n",
        "        ME.append(muestreo_estratificado(a, b, m, N))\n",
        "\n",
        "    return (MM, AE, MI, ME)"
      ]
    },
    {
      "cell_type": "code",
      "execution_count": 9,
      "metadata": {
        "id": "6PBqwg1O3li2"
      },
      "outputs": [],
      "source": [
        "def g(x):\n",
        "    return ( (np.exp(x) - 1) / (np.exp(1) - 1) )\n",
        "\n",
        "def f(x):\n",
        "    return 2*x"
      ]
    },
    {
      "cell_type": "code",
      "execution_count": 10,
      "metadata": {
        "id": "khTddFED3li2"
      },
      "outputs": [],
      "source": [
        "N = 500\n",
        "(MM, AE, MI, ME) = simulacion(N)"
      ]
    },
    {
      "cell_type": "markdown",
      "metadata": {
        "id": "CqPwpnLp3li3"
      },
      "source": [
        "Ahora calculamos la media de cada una de las simulaciones."
      ]
    },
    {
      "cell_type": "code",
      "execution_count": 11,
      "metadata": {
        "id": "B5AlwOtM3li3"
      },
      "outputs": [],
      "source": [
        "v1 = np.mean(MM)\n",
        "v2 = np.mean(AE)\n",
        "v3 = np.mean(MI)\n",
        "v4 = np.mean(ME)"
      ]
    },
    {
      "cell_type": "markdown",
      "metadata": {
        "id": "r2hCADML3li3"
      },
      "source": [
        "Calculamos la varianza de cada uno de los métodos."
      ]
    },
    {
      "cell_type": "code",
      "execution_count": 12,
      "metadata": {
        "id": "aG6kk4z43li4"
      },
      "outputs": [],
      "source": [
        "var1 = np.var(MM)\n",
        "var2 = np.var(AE)\n",
        "var3 = np.var(MI)\n",
        "var4 = np.var(ME)"
      ]
    },
    {
      "cell_type": "markdown",
      "metadata": {
        "id": "xcG2TVMk3li4"
      },
      "source": [
        "**Imprimimos los resultados**"
      ]
    },
    {
      "cell_type": "code",
      "execution_count": 14,
      "metadata": {
        "colab": {
          "base_uri": "https://localhost:8080/",
          "height": 175
        },
        "id": "PFDDfORP3li4",
        "outputId": "c3955e1f-ccdc-49b3-cc92-39ce305bc7b1"
      },
      "outputs": [
        {
          "data": {
            "application/vnd.google.colaboratory.intrinsic+json": {
              "summary": "{\n  \"name\": \"df\",\n  \"rows\": 4,\n  \"fields\": [\n    {\n      \"column\": \"M\\u00e9todo\",\n      \"properties\": {\n        \"dtype\": \"string\",\n        \"num_unique_values\": 4,\n        \"samples\": [\n          \"Acierto y error\",\n          \"Muestreo estratificado\",\n          \"Media muestra\"\n        ],\n        \"semantic_type\": \"\",\n        \"description\": \"\"\n      }\n    },\n    {\n      \"column\": \"Aprox integral\",\n      \"properties\": {\n        \"dtype\": \"number\",\n        \"std\": 0.0013080563084187525,\n        \"min\": 0.4152348776646843,\n        \"max\": 0.41807830452170297,\n        \"num_unique_values\": 4,\n        \"samples\": [\n          0.41807830452170297,\n          0.4152348776646843,\n          0.41717690520725514\n        ],\n        \"semantic_type\": \"\",\n        \"description\": \"\"\n      }\n    },\n    {\n      \"column\": \"Comparaci\\u00f3n de varianzas\",\n      \"properties\": {\n        \"dtype\": \"number\",\n        \"std\": 700.5887723004903,\n        \"min\": 0.03362436828860357,\n        \"max\": 1416.9285339772543,\n        \"num_unique_values\": 4,\n        \"samples\": [\n          1416.9285339772543,\n          1.0,\n          48.402597589981504\n        ],\n        \"semantic_type\": \"\",\n        \"description\": \"\"\n      }\n    }\n  ]\n}",
              "type": "dataframe",
              "variable_name": "df"
            },
            "text/html": [
              "\n",
              "  <div id=\"df-af0c6966-c8df-43f9-a1ce-5cbc5fd1cefc\" class=\"colab-df-container\">\n",
              "    <div>\n",
              "<style scoped>\n",
              "    .dataframe tbody tr th:only-of-type {\n",
              "        vertical-align: middle;\n",
              "    }\n",
              "\n",
              "    .dataframe tbody tr th {\n",
              "        vertical-align: top;\n",
              "    }\n",
              "\n",
              "    .dataframe thead th {\n",
              "        text-align: right;\n",
              "    }\n",
              "</style>\n",
              "<table border=\"1\" class=\"dataframe\">\n",
              "  <thead>\n",
              "    <tr style=\"text-align: right;\">\n",
              "      <th></th>\n",
              "      <th>Método</th>\n",
              "      <th>Aprox integral</th>\n",
              "      <th>Comparación de varianzas</th>\n",
              "    </tr>\n",
              "  </thead>\n",
              "  <tbody>\n",
              "    <tr>\n",
              "      <th>0</th>\n",
              "      <td>Media muestra</td>\n",
              "      <td>0.417177</td>\n",
              "      <td>48.402598</td>\n",
              "    </tr>\n",
              "    <tr>\n",
              "      <th>1</th>\n",
              "      <td>Acierto y error</td>\n",
              "      <td>0.418078</td>\n",
              "      <td>1416.928534</td>\n",
              "    </tr>\n",
              "    <tr>\n",
              "      <th>2</th>\n",
              "      <td>Muestreo importancia</td>\n",
              "      <td>0.417932</td>\n",
              "      <td>0.033624</td>\n",
              "    </tr>\n",
              "    <tr>\n",
              "      <th>3</th>\n",
              "      <td>Muestreo estratificado</td>\n",
              "      <td>0.415235</td>\n",
              "      <td>1.000000</td>\n",
              "    </tr>\n",
              "  </tbody>\n",
              "</table>\n",
              "</div>\n",
              "    <div class=\"colab-df-buttons\">\n",
              "\n",
              "  <div class=\"colab-df-container\">\n",
              "    <button class=\"colab-df-convert\" onclick=\"convertToInteractive('df-af0c6966-c8df-43f9-a1ce-5cbc5fd1cefc')\"\n",
              "            title=\"Convert this dataframe to an interactive table.\"\n",
              "            style=\"display:none;\">\n",
              "\n",
              "  <svg xmlns=\"http://www.w3.org/2000/svg\" height=\"24px\" viewBox=\"0 -960 960 960\">\n",
              "    <path d=\"M120-120v-720h720v720H120Zm60-500h600v-160H180v160Zm220 220h160v-160H400v160Zm0 220h160v-160H400v160ZM180-400h160v-160H180v160Zm440 0h160v-160H620v160ZM180-180h160v-160H180v160Zm440 0h160v-160H620v160Z\"/>\n",
              "  </svg>\n",
              "    </button>\n",
              "\n",
              "  <style>\n",
              "    .colab-df-container {\n",
              "      display:flex;\n",
              "      gap: 12px;\n",
              "    }\n",
              "\n",
              "    .colab-df-convert {\n",
              "      background-color: #E8F0FE;\n",
              "      border: none;\n",
              "      border-radius: 50%;\n",
              "      cursor: pointer;\n",
              "      display: none;\n",
              "      fill: #1967D2;\n",
              "      height: 32px;\n",
              "      padding: 0 0 0 0;\n",
              "      width: 32px;\n",
              "    }\n",
              "\n",
              "    .colab-df-convert:hover {\n",
              "      background-color: #E2EBFA;\n",
              "      box-shadow: 0px 1px 2px rgba(60, 64, 67, 0.3), 0px 1px 3px 1px rgba(60, 64, 67, 0.15);\n",
              "      fill: #174EA6;\n",
              "    }\n",
              "\n",
              "    .colab-df-buttons div {\n",
              "      margin-bottom: 4px;\n",
              "    }\n",
              "\n",
              "    [theme=dark] .colab-df-convert {\n",
              "      background-color: #3B4455;\n",
              "      fill: #D2E3FC;\n",
              "    }\n",
              "\n",
              "    [theme=dark] .colab-df-convert:hover {\n",
              "      background-color: #434B5C;\n",
              "      box-shadow: 0px 1px 3px 1px rgba(0, 0, 0, 0.15);\n",
              "      filter: drop-shadow(0px 1px 2px rgba(0, 0, 0, 0.3));\n",
              "      fill: #FFFFFF;\n",
              "    }\n",
              "  </style>\n",
              "\n",
              "    <script>\n",
              "      const buttonEl =\n",
              "        document.querySelector('#df-af0c6966-c8df-43f9-a1ce-5cbc5fd1cefc button.colab-df-convert');\n",
              "      buttonEl.style.display =\n",
              "        google.colab.kernel.accessAllowed ? 'block' : 'none';\n",
              "\n",
              "      async function convertToInteractive(key) {\n",
              "        const element = document.querySelector('#df-af0c6966-c8df-43f9-a1ce-5cbc5fd1cefc');\n",
              "        const dataTable =\n",
              "          await google.colab.kernel.invokeFunction('convertToInteractive',\n",
              "                                                    [key], {});\n",
              "        if (!dataTable) return;\n",
              "\n",
              "        const docLinkHtml = 'Like what you see? Visit the ' +\n",
              "          '<a target=\"_blank\" href=https://colab.research.google.com/notebooks/data_table.ipynb>data table notebook</a>'\n",
              "          + ' to learn more about interactive tables.';\n",
              "        element.innerHTML = '';\n",
              "        dataTable['output_type'] = 'display_data';\n",
              "        await google.colab.output.renderOutput(dataTable, element);\n",
              "        const docLink = document.createElement('div');\n",
              "        docLink.innerHTML = docLinkHtml;\n",
              "        element.appendChild(docLink);\n",
              "      }\n",
              "    </script>\n",
              "  </div>\n",
              "\n",
              "\n",
              "<div id=\"df-d6bb4037-528f-4d2f-8889-1cb69dcba861\">\n",
              "  <button class=\"colab-df-quickchart\" onclick=\"quickchart('df-d6bb4037-528f-4d2f-8889-1cb69dcba861')\"\n",
              "            title=\"Suggest charts\"\n",
              "            style=\"display:none;\">\n",
              "\n",
              "<svg xmlns=\"http://www.w3.org/2000/svg\" height=\"24px\"viewBox=\"0 0 24 24\"\n",
              "     width=\"24px\">\n",
              "    <g>\n",
              "        <path d=\"M19 3H5c-1.1 0-2 .9-2 2v14c0 1.1.9 2 2 2h14c1.1 0 2-.9 2-2V5c0-1.1-.9-2-2-2zM9 17H7v-7h2v7zm4 0h-2V7h2v10zm4 0h-2v-4h2v4z\"/>\n",
              "    </g>\n",
              "</svg>\n",
              "  </button>\n",
              "\n",
              "<style>\n",
              "  .colab-df-quickchart {\n",
              "      --bg-color: #E8F0FE;\n",
              "      --fill-color: #1967D2;\n",
              "      --hover-bg-color: #E2EBFA;\n",
              "      --hover-fill-color: #174EA6;\n",
              "      --disabled-fill-color: #AAA;\n",
              "      --disabled-bg-color: #DDD;\n",
              "  }\n",
              "\n",
              "  [theme=dark] .colab-df-quickchart {\n",
              "      --bg-color: #3B4455;\n",
              "      --fill-color: #D2E3FC;\n",
              "      --hover-bg-color: #434B5C;\n",
              "      --hover-fill-color: #FFFFFF;\n",
              "      --disabled-bg-color: #3B4455;\n",
              "      --disabled-fill-color: #666;\n",
              "  }\n",
              "\n",
              "  .colab-df-quickchart {\n",
              "    background-color: var(--bg-color);\n",
              "    border: none;\n",
              "    border-radius: 50%;\n",
              "    cursor: pointer;\n",
              "    display: none;\n",
              "    fill: var(--fill-color);\n",
              "    height: 32px;\n",
              "    padding: 0;\n",
              "    width: 32px;\n",
              "  }\n",
              "\n",
              "  .colab-df-quickchart:hover {\n",
              "    background-color: var(--hover-bg-color);\n",
              "    box-shadow: 0 1px 2px rgba(60, 64, 67, 0.3), 0 1px 3px 1px rgba(60, 64, 67, 0.15);\n",
              "    fill: var(--button-hover-fill-color);\n",
              "  }\n",
              "\n",
              "  .colab-df-quickchart-complete:disabled,\n",
              "  .colab-df-quickchart-complete:disabled:hover {\n",
              "    background-color: var(--disabled-bg-color);\n",
              "    fill: var(--disabled-fill-color);\n",
              "    box-shadow: none;\n",
              "  }\n",
              "\n",
              "  .colab-df-spinner {\n",
              "    border: 2px solid var(--fill-color);\n",
              "    border-color: transparent;\n",
              "    border-bottom-color: var(--fill-color);\n",
              "    animation:\n",
              "      spin 1s steps(1) infinite;\n",
              "  }\n",
              "\n",
              "  @keyframes spin {\n",
              "    0% {\n",
              "      border-color: transparent;\n",
              "      border-bottom-color: var(--fill-color);\n",
              "      border-left-color: var(--fill-color);\n",
              "    }\n",
              "    20% {\n",
              "      border-color: transparent;\n",
              "      border-left-color: var(--fill-color);\n",
              "      border-top-color: var(--fill-color);\n",
              "    }\n",
              "    30% {\n",
              "      border-color: transparent;\n",
              "      border-left-color: var(--fill-color);\n",
              "      border-top-color: var(--fill-color);\n",
              "      border-right-color: var(--fill-color);\n",
              "    }\n",
              "    40% {\n",
              "      border-color: transparent;\n",
              "      border-right-color: var(--fill-color);\n",
              "      border-top-color: var(--fill-color);\n",
              "    }\n",
              "    60% {\n",
              "      border-color: transparent;\n",
              "      border-right-color: var(--fill-color);\n",
              "    }\n",
              "    80% {\n",
              "      border-color: transparent;\n",
              "      border-right-color: var(--fill-color);\n",
              "      border-bottom-color: var(--fill-color);\n",
              "    }\n",
              "    90% {\n",
              "      border-color: transparent;\n",
              "      border-bottom-color: var(--fill-color);\n",
              "    }\n",
              "  }\n",
              "</style>\n",
              "\n",
              "  <script>\n",
              "    async function quickchart(key) {\n",
              "      const quickchartButtonEl =\n",
              "        document.querySelector('#' + key + ' button');\n",
              "      quickchartButtonEl.disabled = true;  // To prevent multiple clicks.\n",
              "      quickchartButtonEl.classList.add('colab-df-spinner');\n",
              "      try {\n",
              "        const charts = await google.colab.kernel.invokeFunction(\n",
              "            'suggestCharts', [key], {});\n",
              "      } catch (error) {\n",
              "        console.error('Error during call to suggestCharts:', error);\n",
              "      }\n",
              "      quickchartButtonEl.classList.remove('colab-df-spinner');\n",
              "      quickchartButtonEl.classList.add('colab-df-quickchart-complete');\n",
              "    }\n",
              "    (() => {\n",
              "      let quickchartButtonEl =\n",
              "        document.querySelector('#df-d6bb4037-528f-4d2f-8889-1cb69dcba861 button');\n",
              "      quickchartButtonEl.style.display =\n",
              "        google.colab.kernel.accessAllowed ? 'block' : 'none';\n",
              "    })();\n",
              "  </script>\n",
              "</div>\n",
              "\n",
              "  <div id=\"id_f1b3b6ca-8045-41a9-aa43-804eb8562e54\">\n",
              "    <style>\n",
              "      .colab-df-generate {\n",
              "        background-color: #E8F0FE;\n",
              "        border: none;\n",
              "        border-radius: 50%;\n",
              "        cursor: pointer;\n",
              "        display: none;\n",
              "        fill: #1967D2;\n",
              "        height: 32px;\n",
              "        padding: 0 0 0 0;\n",
              "        width: 32px;\n",
              "      }\n",
              "\n",
              "      .colab-df-generate:hover {\n",
              "        background-color: #E2EBFA;\n",
              "        box-shadow: 0px 1px 2px rgba(60, 64, 67, 0.3), 0px 1px 3px 1px rgba(60, 64, 67, 0.15);\n",
              "        fill: #174EA6;\n",
              "      }\n",
              "\n",
              "      [theme=dark] .colab-df-generate {\n",
              "        background-color: #3B4455;\n",
              "        fill: #D2E3FC;\n",
              "      }\n",
              "\n",
              "      [theme=dark] .colab-df-generate:hover {\n",
              "        background-color: #434B5C;\n",
              "        box-shadow: 0px 1px 3px 1px rgba(0, 0, 0, 0.15);\n",
              "        filter: drop-shadow(0px 1px 2px rgba(0, 0, 0, 0.3));\n",
              "        fill: #FFFFFF;\n",
              "      }\n",
              "    </style>\n",
              "    <button class=\"colab-df-generate\" onclick=\"generateWithVariable('df')\"\n",
              "            title=\"Generate code using this dataframe.\"\n",
              "            style=\"display:none;\">\n",
              "\n",
              "  <svg xmlns=\"http://www.w3.org/2000/svg\" height=\"24px\"viewBox=\"0 0 24 24\"\n",
              "       width=\"24px\">\n",
              "    <path d=\"M7,19H8.4L18.45,9,17,7.55,7,17.6ZM5,21V16.75L18.45,3.32a2,2,0,0,1,2.83,0l1.4,1.43a1.91,1.91,0,0,1,.58,1.4,1.91,1.91,0,0,1-.58,1.4L9.25,21ZM18.45,9,17,7.55Zm-12,3A5.31,5.31,0,0,0,4.9,8.1,5.31,5.31,0,0,0,1,6.5,5.31,5.31,0,0,0,4.9,4.9,5.31,5.31,0,0,0,6.5,1,5.31,5.31,0,0,0,8.1,4.9,5.31,5.31,0,0,0,12,6.5,5.46,5.46,0,0,0,6.5,12Z\"/>\n",
              "  </svg>\n",
              "    </button>\n",
              "    <script>\n",
              "      (() => {\n",
              "      const buttonEl =\n",
              "        document.querySelector('#id_f1b3b6ca-8045-41a9-aa43-804eb8562e54 button.colab-df-generate');\n",
              "      buttonEl.style.display =\n",
              "        google.colab.kernel.accessAllowed ? 'block' : 'none';\n",
              "\n",
              "      buttonEl.onclick = () => {\n",
              "        google.colab.notebook.generateWithVariable('df');\n",
              "      }\n",
              "      })();\n",
              "    </script>\n",
              "  </div>\n",
              "\n",
              "    </div>\n",
              "  </div>\n"
            ],
            "text/plain": [
              "                   Método  Aprox integral  Comparación de varianzas\n",
              "0           Media muestra        0.417177                 48.402598\n",
              "1         Acierto y error        0.418078               1416.928534\n",
              "2    Muestreo importancia        0.417932                  0.033624\n",
              "3  Muestreo estratificado        0.415235                  1.000000"
            ]
          },
          "execution_count": 14,
          "metadata": {},
          "output_type": "execute_result"
        }
      ],
      "source": [
        "df = {'Método':['Media muestra','Acierto y error','Muestreo importancia','Muestreo estratificado'],\n",
        "    'Aprox integral':[v1, v2, v3, v4],\n",
        "    'Comparación de varianzas':[var1/var4, var2/var4, var3/var4, var4/var4]}\n",
        "\n",
        "df = pd.DataFrame(df)\n",
        "\n",
        "df"
      ]
    }
  ],
  "metadata": {
    "colab": {
      "include_colab_link": true,
      "provenance": []
    },
    "kernelspec": {
      "display_name": "myenv",
      "language": "python",
      "name": "python3"
    },
    "language_info": {
      "codemirror_mode": {
        "name": "ipython",
        "version": 3
      },
      "file_extension": ".py",
      "mimetype": "text/x-python",
      "name": "python",
      "nbconvert_exporter": "python",
      "pygments_lexer": "ipython3",
      "version": "3.11.6"
    }
  },
  "nbformat": 4,
  "nbformat_minor": 0
}
