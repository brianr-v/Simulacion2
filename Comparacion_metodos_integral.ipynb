{
  "cells": [
    {
      "cell_type": "markdown",
      "metadata": {
        "id": "view-in-github",
        "colab_type": "text"
      },
      "source": [
        "<a href=\"https://colab.research.google.com/github/brianr-v/Simulacion2/blob/main/Comparacion_metodos_integral.ipynb\" target=\"_parent\"><img src=\"https://colab.research.google.com/assets/colab-badge.svg\" alt=\"Open In Colab\"/></a>"
      ]
    },
    {
      "cell_type": "markdown",
      "metadata": {
        "id": "2WXBfeEf3lik"
      },
      "source": [
        "#Aproximación a una integral por varios métodos\n",
        "\n",
        "$I = \\int_0 ^ 1\\frac{e^x - 1}{e - 1} \\cdot dx$\n",
        "\n",
        "Utilizaremos 4 métodos, con un tamaño N fijo, los métodos que usaremos es:\n",
        "* Media muestral.\n",
        "* Acierto y error.\n",
        "* Muestreo importancia.\n",
        "* Muestreo estratificado.\n",
        "\n",
        "Primero lo resolvemos de manera analítica:\n",
        "\n",
        "$I = \\int_0 ^ 1\\frac{e^x - 1}{e - 1} \\cdot dx$\n",
        "\n",
        "$=\\int_0 ^ 1\\frac{e^x - 1}{e - 1} \\cdot dx = \\frac{1}{e-1}[\\int_0 ^ 1 e^x \\cdot dx - \\int_0 ^ 1 1 \\cdot dx]$\n",
        "\n",
        "$=\\frac{1}{e-1} [e^x |_0^1 - x |_0^1] = \\frac{1}{e-1} (e - e^0 - 1 - 0) $\n",
        "\n",
        "$=\\frac{1}{e-1} (e - 2) = \\frac{e - 2}{e - 1}$\n",
        "\n",
        "$I = \\frac{e - 2}{e - 1} \\approx 0.418023$\n",
        "\n",
        "Ahora lo resolvemos mediante simulación."
      ]
    },
    {
      "cell_type": "markdown",
      "metadata": {
        "id": "DMKOPy213lis"
      },
      "source": [
        "**Importamos librerías**\n",
        "\n",
        "Importamos las líbrerías necesarios."
      ]
    },
    {
      "cell_type": "code",
      "execution_count": null,
      "metadata": {
        "id": "zYqKiyzT3lit"
      },
      "outputs": [],
      "source": [
        "import numpy as np\n",
        "import random\n",
        "import pandas as pd"
      ]
    },
    {
      "cell_type": "markdown",
      "metadata": {
        "id": "3Lh1MBAu3liw"
      },
      "source": [
        "**Media muestral**\n",
        "\n",
        "Definimos una función que contenga el método media muestral."
      ]
    },
    {
      "cell_type": "code",
      "execution_count": null,
      "metadata": {
        "id": "t_tQOkwT3liw"
      },
      "outputs": [],
      "source": [
        "def media_muestral(a, b, n):\n",
        "    # Contador que sumara las evaluaciones de la funcion en el intervalo de integración\n",
        "    contador = 0\n",
        "    for i in range(1, n + 1):\n",
        "        u = np.random.uniform(0, 1)\n",
        "        contador = contador + g((b - a)* u + a)\n",
        "\n",
        "    aproximacion = contador / n\n",
        "\n",
        "    return aproximacion"
      ]
    },
    {
      "cell_type": "markdown",
      "metadata": {
        "id": "NXgVT0hT3lix"
      },
      "source": [
        "**Acierto y error**\n",
        "\n",
        "Definimos una función que contenga el método acierto error."
      ]
    },
    {
      "cell_type": "code",
      "execution_count": null,
      "metadata": {
        "id": "MscwdMRZ3liy"
      },
      "outputs": [],
      "source": [
        "def acierto_error(a, b, c, n):\n",
        "    aciertos = 0\n",
        "    area = []\n",
        "    for i in range(1,n+1):\n",
        "        # Generar dos númeos aleatorios independientes\n",
        "        u = np.random.uniform(0,1,2)\n",
        "\n",
        "        # Aplicar la transformada inversa\n",
        "        x_valores = a + u[0] * (b - a)      #Utilizar la tranformada inversa\n",
        "\n",
        "        # Calcular g(Xi)\n",
        "        g_valores = g(x_valores)\n",
        "\n",
        "        # Paso 5: Contar los aciertos tales que g(Xi) > c * Un+i\n",
        "        if g_valores > c * u[1]:\n",
        "            aciertos += 1\n",
        "\n",
        "        # Paso 6: Estimar I calculando la media muestral θ2\n",
        "        theta_2 = c * (b - a) * (aciertos / i)\n",
        "        area.append(theta_2)\n",
        "\n",
        "    return area"
      ]
    },
    {
      "cell_type": "markdown",
      "metadata": {
        "id": "0gtvHM5k3liz"
      },
      "source": [
        "**Muestreo importancia**\n",
        "\n",
        "Definimos una función que contenga el método muestreo importancia."
      ]
    },
    {
      "cell_type": "code",
      "execution_count": null,
      "metadata": {
        "id": "4dRDrEux3liz"
      },
      "outputs": [],
      "source": [
        "f_x = []\n",
        "g_x = []\n",
        "\n",
        "def muestreo_importancia(a, b, n):\n",
        "    for i in range(n):\n",
        "        x = np.random.uniform(a, b)\n",
        "        f_x.append(f(x))\n",
        "        g_x.append(g(x))\n",
        "\n",
        "\n",
        "    integral =  sum(g_x) / sum(f_x )\n",
        "\n",
        "    return integral\n"
      ]
    },
    {
      "cell_type": "markdown",
      "metadata": {
        "id": "-nBg9I1Y3li0"
      },
      "source": [
        "**Muestreo estratificado**\n",
        "\n",
        "Definimos una función que contenga el método muestreo estratificado."
      ]
    },
    {
      "cell_type": "code",
      "execution_count": null,
      "metadata": {
        "id": "1wQ80QPU3li0"
      },
      "outputs": [],
      "source": [
        "def muestreo_estratificado(a, b, m, N):\n",
        "    l = (b-a)/m\n",
        "    puntos = int(N/m)\n",
        "    media = 0\n",
        "    for j in range(a, m + 1):\n",
        "        for i in range(1, puntos + 1):\n",
        "            x = l*np.random.uniform(0,1) + (j - 1)/m\n",
        "            media = media + g(x)\n",
        "\n",
        "    return media/N"
      ]
    },
    {
      "cell_type": "markdown",
      "metadata": {
        "id": "0RlJu9dO3li1"
      },
      "source": [
        "**Ejecución de los métodos**\n",
        "\n",
        "Los métodos seran ejecutados 1000 veces.\n",
        "\n",
        "Despues para tener mejor aproximación, ejecutaremos 1000 veces cada experimento."
      ]
    },
    {
      "cell_type": "code",
      "execution_count": null,
      "metadata": {
        "id": "It4gxyRG3li1"
      },
      "outputs": [],
      "source": [
        "def simulacion(N):\n",
        "    n = 1000\n",
        "    MM = []\n",
        "    AE = []\n",
        "    MI = []\n",
        "    ME = []\n",
        "\n",
        "    # Parámetros del intervalo [a, b]\n",
        "    a = 0\n",
        "    b = 1\n",
        "\n",
        "    # Parámetro de umbral c \"CAMBIAR SI ES NECESARIO\"\n",
        "    c = 1.2\n",
        "\n",
        "    # Número de puntos a generar\n",
        "    n = 1000\n",
        "\n",
        "    m= 10\n",
        "\n",
        "    # Media muestral\n",
        "    for i in range(N):\n",
        "        MM.append(media_muestral(a, b, n))\n",
        "\n",
        "    # Acierto y error\n",
        "    for i in range(N):\n",
        "        AE.append(acierto_error(a, b, c, n))\n",
        "\n",
        "    # Muestreo importancia\n",
        "    for i in range(N):\n",
        "        MI.append(muestreo_importancia(a, b, n))\n",
        "\n",
        "    # Muestreo estratificado\n",
        "    for i in range(N):\n",
        "        ME.append(muestreo_estratificado(a, b, m, N))\n",
        "\n",
        "    return (MM, AE, MI, ME)"
      ]
    },
    {
      "cell_type": "code",
      "execution_count": null,
      "metadata": {
        "id": "6PBqwg1O3li2"
      },
      "outputs": [],
      "source": [
        "def g(x):\n",
        "    return ( (np.exp(x) - 1) / (np.exp(1) - 1) )\n",
        "\n",
        "def f(x):\n",
        "    return 2*x"
      ]
    },
    {
      "cell_type": "code",
      "execution_count": null,
      "metadata": {
        "id": "khTddFED3li2"
      },
      "outputs": [],
      "source": [
        "N = 500\n",
        "(MM, AE, MI, ME) = simulacion(N)"
      ]
    },
    {
      "cell_type": "markdown",
      "metadata": {
        "id": "CqPwpnLp3li3"
      },
      "source": [
        "Ahora calculamos la media de cada una de las simulaciones."
      ]
    },
    {
      "cell_type": "code",
      "execution_count": null,
      "metadata": {
        "id": "B5AlwOtM3li3"
      },
      "outputs": [],
      "source": [
        "v1 = np.mean(MM)\n",
        "v2 = np.mean(AE)\n",
        "v3 = np.mean(MI)\n",
        "v4 = np.mean(ME)"
      ]
    },
    {
      "cell_type": "markdown",
      "metadata": {
        "id": "r2hCADML3li3"
      },
      "source": [
        "Calculamos la varianza de cada uno de los métodos."
      ]
    },
    {
      "cell_type": "code",
      "execution_count": null,
      "metadata": {
        "id": "aG6kk4z43li4"
      },
      "outputs": [],
      "source": [
        "var1 = np.var(MM)\n",
        "var2 = np.var(AE)\n",
        "var3 = np.var(MI)\n",
        "var4 = np.var(ME)"
      ]
    },
    {
      "cell_type": "markdown",
      "metadata": {
        "id": "xcG2TVMk3li4"
      },
      "source": [
        "**Imprimimos los resultados**"
      ]
    },
    {
      "cell_type": "code",
      "execution_count": null,
      "metadata": {
        "id": "PFDDfORP3li4",
        "outputId": "2161a70d-8dae-4569-d281-67484449e329"
      },
      "outputs": [
        {
          "data": {
            "text/html": [
              "<div>\n",
              "<style scoped>\n",
              "    .dataframe tbody tr th:only-of-type {\n",
              "        vertical-align: middle;\n",
              "    }\n",
              "\n",
              "    .dataframe tbody tr th {\n",
              "        vertical-align: top;\n",
              "    }\n",
              "\n",
              "    .dataframe thead th {\n",
              "        text-align: right;\n",
              "    }\n",
              "</style>\n",
              "<table border=\"1\" class=\"dataframe\">\n",
              "  <thead>\n",
              "    <tr style=\"text-align: right;\">\n",
              "      <th></th>\n",
              "      <th>Método</th>\n",
              "      <th>Aprox Int</th>\n",
              "      <th>Comparación de varianzas</th>\n",
              "    </tr>\n",
              "  </thead>\n",
              "  <tbody>\n",
              "    <tr>\n",
              "      <th>0</th>\n",
              "      <td>Media muestra</td>\n",
              "      <td>0.417723</td>\n",
              "      <td>38.520700</td>\n",
              "    </tr>\n",
              "    <tr>\n",
              "      <th>1</th>\n",
              "      <td>Acierto y error</td>\n",
              "      <td>0.419350</td>\n",
              "      <td>1128.623053</td>\n",
              "    </tr>\n",
              "    <tr>\n",
              "      <th>2</th>\n",
              "      <td>Muestreo importancia</td>\n",
              "      <td>0.417971</td>\n",
              "      <td>0.007778</td>\n",
              "    </tr>\n",
              "    <tr>\n",
              "      <th>3</th>\n",
              "      <td>Muestreo estratificado</td>\n",
              "      <td>0.415242</td>\n",
              "      <td>1.000000</td>\n",
              "    </tr>\n",
              "  </tbody>\n",
              "</table>\n",
              "</div>"
            ],
            "text/plain": [
              "                   Método  Aprox Int  Comparación de varianzas\n",
              "0           Media muestra   0.417723                 38.520700\n",
              "1         Acierto y error   0.419350               1128.623053\n",
              "2    Muestreo importancia   0.417971                  0.007778\n",
              "3  Muestreo estratificado   0.415242                  1.000000"
            ]
          },
          "execution_count": 34,
          "metadata": {},
          "output_type": "execute_result"
        }
      ],
      "source": [
        "df = {'Método':['Media muestra','Acierto y error','Muestreo importancia','Muestreo estratificado'],\n",
        "    'Aprox Int':[v1, v2, v3, v4],\n",
        "    'Comparación de varianzas':[var1/var4, var2/var4, var3/var4, var4/var4]}\n",
        "\n",
        "df = pd.DataFrame(df)\n",
        "\n",
        "df"
      ]
    }
  ],
  "metadata": {
    "kernelspec": {
      "display_name": "myenv",
      "language": "python",
      "name": "python3"
    },
    "language_info": {
      "codemirror_mode": {
        "name": "ipython",
        "version": 3
      },
      "file_extension": ".py",
      "mimetype": "text/x-python",
      "name": "python",
      "nbconvert_exporter": "python",
      "pygments_lexer": "ipython3",
      "version": "3.11.6"
    },
    "colab": {
      "provenance": [],
      "include_colab_link": true
    }
  },
  "nbformat": 4,
  "nbformat_minor": 0
}